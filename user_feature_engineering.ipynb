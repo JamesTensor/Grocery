{
 "cells": [
  {
   "cell_type": "code",
   "execution_count": 178,
   "metadata": {},
   "outputs": [],
   "source": [
    "import pandas as pd\n",
    "from pandas import Series\n",
    "import numpy as np\n",
    "from joblib import Parallel, delayed\n",
    "import json\n",
    "from scipy.sparse import hstack\n",
    "import time\n",
    "from imblearn.over_sampling import RandomOverSampler\n",
    "from collections import Counter\n",
    "from sklearn.preprocessing.data import OneHotEncoder\n",
    "from sklearn import preprocessing"
   ]
  },
  {
   "cell_type": "code",
   "execution_count": 31,
   "metadata": {},
   "outputs": [
    {
     "data": {
      "text/plain": [
       "'2020-01-02 15:53:11'"
      ]
     },
     "execution_count": 31,
     "metadata": {},
     "output_type": "execute_result"
    }
   ],
   "source": [
    "now_year"
   ]
  },
  {
   "cell_type": "code",
   "execution_count": 123,
   "metadata": {},
   "outputs": [],
   "source": [
    "#年龄处理\n",
    "time_now = int(time.time())\n",
    "time_local = time.localtime(time_now)\n",
    "now_year = time.strftime(\"%Y-%m-%d %H:%M:%S\",time_local)\n",
    "now_year = int(now_year[:4])\n",
    "def age_process(birthday):\n",
    "    #len(list(user_df.loc[2,'birthday'])) = 12,后三位为毫秒\n",
    "    try:\n",
    "        time_local = time.localtime(int(birthday[:9]))\n",
    "    except:\n",
    "        return 4\n",
    "    birth_year = time.strftime(\"%Y-%m-%d %H:%M:%S\",time_local)\n",
    "    age = now_year - int(birth_year[:4])\n",
    "    if age==0:\n",
    "        return 0\n",
    "    elif age<18:\n",
    "        return 1\n",
    "    elif age<20:\n",
    "        return 3\n",
    "    elif age<22:\n",
    "        return 4\n",
    "    elif age<24:\n",
    "        return 5\n",
    "    elif age<26:\n",
    "        return 6\n",
    "    elif age<28:\n",
    "        return 7\n",
    "    elif age<30:\n",
    "        return 8\n",
    "    elif age<32:\n",
    "        return 9\n",
    "    elif age<34:\n",
    "        return 10\n",
    "    elif age<36:\n",
    "        return 11\n",
    "    elif age<38:\n",
    "        return 12\n",
    "    elif age<45:\n",
    "        return 13\n",
    "    elif age<60:\n",
    "        return 14\n",
    "    else:\n",
    "        return 15\n",
    "\n",
    "def register_type_fun(row):\n",
    "    register_type_list = row.split(',')\n",
    "    tmp_list = [0,0,0,0,0,0]\n",
    "    if 'weixin' in register_type_list:\n",
    "        tmp_list[0] = 1\n",
    "    if 'sns' in register_type_list:\n",
    "        tmp_list[1] = 1\n",
    "    if 'sina_weibo' in register_type_list:\n",
    "        tmp_list[2] = 1\n",
    "    if 'qq_zone' in register_type_list:\n",
    "        tmp_list[3] = 1\n",
    "    if 'missing' in register_type_list:\n",
    "        tmp_list[5] = 1\n",
    "    if 'cellphone' in register_type_list:\n",
    "        tmp_list[4] = 1\n",
    "    if 'xiaomi' in register_type_list:\n",
    "        tmp_list[5] = 1\n",
    "    if 'device' in register_type_list:\n",
    "        tmp_list[5] = 1\n",
    "    return tmp_list\n",
    "\n",
    "def columbus_user_tags_fun(row):\n",
    "    columbus_user_tags_list = row.split(',')\n",
    "    tmp_list = [0,0,0,0,0,0]\n",
    "    if 'weixin' in register_type_list:\n",
    "        tmp_list[0] = 1\n",
    "    if 'sns' in register_type_list:\n",
    "        tmp_list[1] = 1\n",
    "    if 'sina_weibo' in register_type_list:\n",
    "        tmp_list[2] = 1\n",
    "    if 'qq_zone' in register_type_list:\n",
    "        tmp_list[3] = 1\n",
    "    if 'missing' in register_type_list:\n",
    "        tmp_list[5] = 1\n",
    "    if 'cellphone' in register_type_list:\n",
    "        tmp_list[4] = 1\n",
    "    if 'xiaomi' in register_type_list:\n",
    "        tmp_list[5] = 1\n",
    "    if 'device' in register_type_list:\n",
    "        tmp_list[5] = 1\n",
    "    return tmp_list\n",
    "\n",
    "def time_process(data_time):\n",
    "    try:\n",
    "        time_tmp = time.localtime(int(data_time[:9]))\n",
    "    except:\n",
    "        return 4\n",
    "    time_tmp = time.strftime(\"%Y-%m-%d %H:%M:%S\",time_tmp)\n",
    "    year = list(time_tmp)[:4]\n",
    "    month = list(time_tmp)[5:7]\n",
    "    day = list(time_tmp)[9:11]\n",
    "    hour = list(time_tmp)[3]\n",
    "    return year,month,day,hour \n",
    "\n",
    "def activate_channel_label_fun(slug):\n",
    "    slug = str(slug)\n",
    "    if slug=='record_eating_activity':\n",
    "        return 1\n",
    "    elif slug=='record_weight':\n",
    "        return 2\n",
    "    elif slug=='post_create':\n",
    "        return 3\n",
    "    elif slug=='habit_checkin':\n",
    "        return 4\n",
    "    elif slug=='search_food':\n",
    "        return 5\n",
    "    elif slug=='finished_sports':\n",
    "        return 6\n",
    "    else:  \n",
    "        return 0\n",
    "    \n",
    "def special_condition_label_fun(x):\n",
    "    x = str(x)\n",
    "    if x=='0.0' or x=='0':\n",
    "        return 0\n",
    "    elif x=='1.0' or x=='1':\n",
    "        return 1\n",
    "    elif x=='2.0' or x=='2':\n",
    "        return 2\n",
    "    elif x=='3.0' or x=='3':\n",
    "        return 3\n",
    "    else:  \n",
    "        return 4\n",
    "\n",
    "# 四分位箱线图处理异常值\n",
    "def box_plot(data_series,feature_name):\n",
    "    data_series = pd.Series(sorted(data_series))\n",
    "    #q_abnormal_low = data_series.quantile(0.25) - 1.5 * (data_series.quantile(0.75) - data_series.quantile(0.25))\n",
    "    q_abnormal_up = data_series.quantile(0.90) + 1.5 * (data_series.quantile(0.90) - data_series.quantile(0.25))\n",
    "    q_abnormal_up = int(round(q_abnormal_up,0))\n",
    "    data_series = data_series.apply(lambda x:q_abnormal_up if x>q_abnormal_up else x)\n",
    "    return data_series\n",
    "    \n",
    "def _load_data(data_file):\n",
    "    user_df = pd.read_csv(filepath_or_buffer = data_file,sep=\",\",names=user_feature_list)\n",
    "    user_df.drop(labels=None,axis=0, index=0, columns=None, inplace=True)\n",
    "    return user_df\n"
   ]
  },
  {
   "cell_type": "code",
   "execution_count": 10,
   "metadata": {},
   "outputs": [],
   "source": [
    "data_file_list = [\n",
    "'/Users/wjj/Desktop/jupyter/Boohee_GBDT+LR/data/0102/用户反例原始数据/view_comment_not_add_buy_user_12.csv',\n",
    "\n",
    "]\n",
    "user_feature_list = [\n",
    " 'second_id','slug','time','birthday','register_timestamp','first_visit_time','survey_finished_at',\n",
    " 'first_traffic_source_type','register_source_app_key','register_type',\n",
    " 'register_sns','gender','phone_model','app_channel','app_version','os_version','province','city_level','purpose',\n",
    " 'target_weight','start_weight','latest_weight','bmi','budget_calory',\n",
    " 'view_goods_count','add_cart_count','commit_order_count','num_paid','eka_num_paid',\n",
    " 'total_cost','recent_buy_at','record_food_count','search_food_count','record_weight_count',\n",
    " 'finished_sports_count','habbit_checkin_count','post_create_count',\n",
    " 'active_day_count','activate_channel','special_condition','easy_customer_first_buy_time',\n",
    " 'easy_membership_first_platform','easy_membership_first_time','user_membership_status','user_fans_status',\n",
    " 'guide_to_bh_at','wx_assistant_friend','columbus_user_tags'\n",
    "]\n"
   ]
  },
  {
   "cell_type": "code",
   "execution_count": 159,
   "metadata": {},
   "outputs": [
    {
     "name": "stderr",
     "output_type": "stream",
     "text": [
      "/Users/wjj/anaconda3/lib/python3.7/site-packages/IPython/core/interactiveshell.py:3185: DtypeWarning: Columns (0,3,4,5,6,11,17,19,20,21,22,23,24,25,26,27,28,29,30,31,32,33,34,35,36,37,39,40,42,45) have mixed types. Specify dtype option on import or set low_memory=False.\n",
      "  if (yield from self.run_code(code, result)):\n"
     ]
    }
   ],
   "source": [
    "user_df = pd.DataFrame(columns = user_feature_list)\n",
    "for i in data_file_list:\n",
    "    user_tmp_df =  _load_data(i)\n",
    "    user_df = pd.concat([user_df,user_tmp_df],ignore_index=True)\n",
    "user_df = user_df[~user_df['second_id'].isin(['second_id'])]\n",
    "user_df = user_df.drop_duplicates('second_id')\n",
    "del user_df['columbus_user_tags']"
   ]
  },
  {
   "cell_type": "code",
   "execution_count": 12,
   "metadata": {},
   "outputs": [],
   "source": [
    "#phonemodel特征,不要重复跑，不然报错\n",
    "#user_df['phone_model'] = user_df['phone_model'].fillna('1')\n",
    "user_df.loc[(user_df[\"phone_model\"]=='iPhone'),\"phone_model\"] = 2\n",
    "user_df.loc[(user_df[\"phone_model\"]!='iPhone'),\"phone_model\"] = 1"
   ]
  },
  {
   "cell_type": "code",
   "execution_count": 13,
   "metadata": {},
   "outputs": [],
   "source": [
    "#purpose\n",
    "user_df.loc[(user_df[\"purpose\"]=='lost_weight'),\"purpose_label\"] = 1\n",
    "user_df.loc[(user_df[\"purpose\"]=='keep_muscle'),\"purpose_label\"] = 2\n",
    "user_df.loc[(user_df[\"purpose\"]=='gain_muscle'),\"purpose_label\"] = 3\n",
    "user_df.loc[(user_df[\"purpose\"]!='lost_weight') & (user_df[\"purpose\"]!='keep_muscle') &(user_df[\"purpose\"]!='gain_muscle'),\"purpose_label\"] = 4\n",
    "user_df['purpose_label'] = user_df['purpose_label'].fillna(5)\n",
    "del user_df['purpose']"
   ]
  },
  {
   "cell_type": "code",
   "execution_count": 14,
   "metadata": {},
   "outputs": [],
   "source": [
    "#个人信息特征空值，不要重复跑，不然报错\n",
    "user_df['city_level'].fillna(2,inplace=True)\n",
    "user_df['city_level'] = user_df['city_level'].astype(np.int32)\n",
    "#province_list = user_df['province'].value_counts().keys().tolist()[:37]\n",
    "province_list=['广东省', '江苏省', '浙江省', '北京', '上海', '山东省', '河南省', '四川省', '湖北省', '河北省', '湖南省', '安徽省', '辽宁省', '福建省', '陕西省', '重庆', '江西省', '天津', '云南省', '黑龙江省', '山西省', '未知', '广西', '吉林省', '内蒙古', '贵州省', '新疆', '甘肃省', '海南省', '宁夏', '香港', '青海省', '台湾省', '澳门', '西藏']\n",
    "user_df['province'].fillna('未知',inplace = True)\n",
    "user_df['province'] = user_df['province'].apply(lambda x:x if x in province_list else '国外')\n",
    "encoder = preprocessing.LabelEncoder()\n",
    "encoder.fit(user_df['province'])\n",
    "user_df['province'] = encoder.transform(user_df['province'])\n",
    "user_df[\"gender\"].fillna(2, inplace=True)\n",
    "user_df['gender'] = user_df['gender'].apply(lambda x:1 if x=='1' or x==1 or x==1.0 else 2)\n",
    "user_df[\"activate_channel\"] = user_df[\"activate_channel\"].apply(activate_channel_label_fun)\n",
    "user_df[\"special_condition\"] = user_df[\"special_condition\"].apply(special_condition_label_fun)"
   ]
  },
  {
   "cell_type": "code",
   "execution_count": 15,
   "metadata": {},
   "outputs": [],
   "source": [
    "#用户行为特征\n",
    "feature_box_plot_list = ['view_goods_count', 'record_food_count', 'search_food_count','record_weight_count','active_day_count']                              \n",
    "for i in feature_box_plot_list:\n",
    "    user_df[i].fillna(0,inplace=True)\n",
    "    user_df[i] = user_df[i].astype(np.int32)\n",
    "    user_df[i] = box_plot(user_df[i],i)\n",
    "    user_df[i].fillna(0,inplace=True)\n",
    "    \n",
    "# PND模型处理异常值\n",
    "feature_custom_list = ['habbit_checkin_count','total_cost','num_paid','add_cart_count','eka_num_paid','commit_order_count','post_create_count','finished_sports_count']\n",
    "for i in feature_custom_list:\n",
    "    user_df[i].fillna(0,inplace=True)\n",
    "    user_df[i] = user_df[i].astype(np.float32)\n",
    "user_df['habbit_checkin_count'] = user_df['habbit_checkin_count'].apply(lambda x:200 if x>200 else x)\n",
    "user_df['add_cart_count'] = user_df['add_cart_count'].apply(lambda x:80 if x>80 else x)\n",
    "user_df['total_cost'] = user_df['total_cost'].apply(lambda x:5000 if x>5000 else x)\n",
    "user_df['num_paid'] = user_df['num_paid'].apply(lambda x:20 if x>20 else x)\n",
    "user_df['eka_num_paid'] = user_df['eka_num_paid'].apply(lambda x:20 if x>20 else x)\n",
    "user_df['commit_order_count'] = user_df['commit_order_count'].apply(lambda x:30 if x>30 else x)\n",
    "user_df['post_create_count'] = user_df['post_create_count'].apply(lambda x:50 if x>50 else x)\n",
    "user_df['finished_sports_count'] = user_df['finished_sports_count'].apply(lambda x:80 if x>80 else x)\n",
    "   "
   ]
  },
  {
   "cell_type": "code",
   "execution_count": 16,
   "metadata": {},
   "outputs": [],
   "source": [
    "#用户体制特征使用平均填充\n",
    "feature_body_list = [\"target_weight\",\"start_weight\",\"latest_weight\",\"bmi\",\"budget_calory\"]\n",
    "for i in feature_body_list:\n",
    "    user_df[i] = user_df[i].astype(np.float32)\n",
    "    mean_val = user_df[i].mean()\n",
    "    user_df[i].fillna(mean_val, inplace=True)\n",
    "del mean_val"
   ]
  },
  {
   "cell_type": "code",
   "execution_count": 33,
   "metadata": {},
   "outputs": [],
   "source": [
    "#时间特征\n",
    "#年龄特征处理\n",
    "user_df['birthday'] = user_df['birthday'].astype(str)\n",
    "user_df['birthday'] = user_df['birthday'].apply(age_process)"
   ]
  },
  {
   "cell_type": "code",
   "execution_count": 144,
   "metadata": {},
   "outputs": [],
   "source": [
    "user_df['register_sns'] = user_df['register_sns'].fillna('missing')\n",
    "user_df= user_df.join(pd.get_dummies(user_df['register_sns'],prefix='register_sns_'))\n",
    "del user_df['register_sns']"
   ]
  },
  {
   "cell_type": "code",
   "execution_count": null,
   "metadata": {},
   "outputs": [],
   "source": [
    "#app_channel onehot\n",
    "app_channel_list = ['missing', 'huawei','nearme', 'vivo','xiaomi','boohee','tencent','meizu', '_360','baidu','wandoujia','undefind','lenovo','zhihuan','oppo','other',]\n",
    "user_df['app_channel'] = user_df['app_channel'].apply(lambda x:'vivo' if x == 'oppo' else x)\n",
    "user_df['app_channel'] = user_df['app_channel'].apply(lambda x:x if x in app_channel_list else 'other')\n",
    "user_df= user_df.join(pd.get_dummies(user_df['app_channel'],prefix='app_channel_'))\n",
    "del user_df['app_channel']"
   ]
  },
  {
   "cell_type": "code",
   "execution_count": 145,
   "metadata": {},
   "outputs": [],
   "source": [
    "#注册方式onehot\n",
    "user_df['register_type'] = user_df['register_type'].fillna('missing')\n",
    "user_df['register_type']= pd.DataFrame(user_df['register_type'].apply(register_type_fun))\n",
    "user_df['register_type_weixin'] = user_df['register_type'].apply(lambda x:x[0])\n",
    "user_df['register_type_sns'] = user_df['register_type'].apply(lambda x:x[1])\n",
    "user_df['register_type_sina_weibo'] = user_df['register_type'].apply(lambda x:x[2])\n",
    "user_df['register_type_qq_zone'] = user_df['register_type'].apply(lambda x:x[3])\n",
    "user_df['register_type_cellphone'] = user_df['register_type'].apply(lambda x:x[4])\n",
    "user_df['register_type_missing'] = user_df['register_type'].apply(lambda x:x[5])\n",
    "del user_df['register_type']"
   ]
  },
  {
   "cell_type": "code",
   "execution_count": 153,
   "metadata": {},
   "outputs": [],
   "source": [
    "user_df['first_traffic_source_type'].fillna('missing',inplace=True)\n",
    "user_df['first_traffic_source_type'] = user_df['first_traffic_source_type'].apply(lambda x:'direct' if x == '直接流量')\n",
    "user_df['first_traffic_source_type'] = user_df['first_traffic_source_type'].apply(lambda x:'indirect' if x == '间接流量')\n",
    "user_df= user_df.join(pd.get_dummies(user_df['first_traffic_source_type'],prefix='first_traffic_source_type_'))\n",
    "del user_df['first_traffic_source_type']"
   ]
  },
  {
   "cell_type": "code",
   "execution_count": null,
   "metadata": {},
   "outputs": [],
   "source": [
    "user_df['register_source_app_key'] = user_df['register_source_app_key'].apply(lambda x:x if x == 'ifood' or x == 'boohee_weixin' or x == 'one' or x == 'food' or x == 'nice' else 'missing')            \n",
    "user_df= user_df.join(pd.get_dummies(user_df['register_source_app_key'],prefix='register_source_app_key_'))\n",
    "del user_df['register_source_app_key']"
   ]
  },
  {
   "cell_type": "code",
   "execution_count": 158,
   "metadata": {},
   "outputs": [
    {
     "data": {
      "text/plain": [
       "APP       40287\n",
       "wechat     1272\n",
       "Name: easy_membership_first_platform, dtype: int64"
      ]
     },
     "execution_count": 158,
     "metadata": {},
     "output_type": "execute_result"
    }
   ],
   "source": [
    "user_df['easy_membership_first_platform'].fillna('missing',inplace=True)\n",
    "user_df= user_df.join(pd.get_dummies(user_df['easy_membership_first_platform'],prefix='easy_membership_first_platform_'))\n",
    "del user_df['easy_membership_first_platform']"
   ]
  },
  {
   "cell_type": "code",
   "execution_count": 167,
   "metadata": {},
   "outputs": [],
   "source": [
    "user_df['user_membership_status'].fillna('missing',inplace=True)\n",
    "user_df['user_membership_status'] = user_df['user_membership_status'].apply(lambda x:'member_expire' if x == 'member_canceled' else x)\n",
    "user_df['user_membership_status'] = user_df['user_membership_status'].apply(lambda x:'member_expire' if x == 'member_inactive' else x)\n",
    "user_df['user_membership_status'] = user_df['user_membership_status'].apply(lambda x:'member_ongoing' if x == 'associate_member' else x)\n",
    "user_df= user_df.join(pd.get_dummies(user_df['user_membership_status'],prefix='user_membership_status_'))\n",
    "del user_df['user_membership_status']"
   ]
  },
  {
   "cell_type": "code",
   "execution_count": 169,
   "metadata": {},
   "outputs": [],
   "source": [
    "user_df['user_fans_status'].fillna('missing',inplace=True)\n",
    "user_df= user_df.join(pd.get_dummies(user_df['user_fans_status'],prefix='user_fans_status_'))\n",
    "del user_df['user_fans_status']"
   ]
  },
  {
   "cell_type": "code",
   "execution_count": 171,
   "metadata": {},
   "outputs": [],
   "source": [
    "user_df['wx_assistant_friend'].fillna('missing',inplace=True)\n",
    "user_df['wx_assistant_friend'] = user_df['wx_assistant_friend'].apply(lambda x:'yes' if x == '是' else x)\n",
    "user_df= user_df.join(pd.get_dummies(user_df['wx_assistant_friend'],prefix='wx_assistant_friend_'))\n",
    "del user_df['wx_assistant_friend']"
   ]
  },
  {
   "cell_type": "code",
   "execution_count": null,
   "metadata": {},
   "outputs": [],
   "source": [
    "['second_id','slug','time','register_timestamp','first_visit_time','survey_finished_at',\n",
    " 'app_version','os_version',\n",
    " 'recent_buy_at','easy_customer_first_buy_time',\n",
    " 'easy_membership_first_time',\n",
    " 'guide_to_bh_at'\n",
    "]"
   ]
  },
  {
   "cell_type": "markdown",
   "metadata": {
    "scrolled": true
   },
   "source": [
    "user_df['columbus_user_tags'].fillna('missing',inplace=True)\n",
    "columbus_user_tags_list =[]\n",
    "for row in user_df.itertuples():\n",
    "    tmp_list = getattr(row, 'columbus_user_tags').split(',')\n",
    "    columbus_user_tags_list = columbus_user_tags_list+tmp_list\n",
    "print(len(set(columbus_user_tags_list)))\n",
    "columbus_user_tags_set = set(columbus_user_tags_list)"
   ]
  },
  {
   "cell_type": "code",
   "execution_count": 193,
   "metadata": {},
   "outputs": [],
   "source": [
    "def convert_str_datetime(df): \n",
    "    \n",
    "    df.insert(loc=2, column= timestamp , value=pd.to_datetime(df.transdate, format='%Y-%m-%d %H:%M:%S.%f')) "
   ]
  },
  {
   "cell_type": "code",
   "execution_count": 194,
   "metadata": {},
   "outputs": [
    {
     "ename": "TypeError",
     "evalue": "'DataFrame' object is not callable",
     "output_type": "error",
     "traceback": [
      "\u001b[0;31m---------------------------------------------------------------------------\u001b[0m",
      "\u001b[0;31mTypeError\u001b[0m                                 Traceback (most recent call last)",
      "\u001b[0;32m<ipython-input-194-37d066510ddf>\u001b[0m in \u001b[0;36m<module>\u001b[0;34m\u001b[0m\n\u001b[0;32m----> 1\u001b[0;31m \u001b[0muser_df\u001b[0m\u001b[0;34m(\u001b[0m\u001b[0muser_df\u001b[0m\u001b[0;34m[\u001b[0m\u001b[0;34m'birthday'\u001b[0m\u001b[0;34m]\u001b[0m\u001b[0;34m.\u001b[0m\u001b[0misnull\u001b[0m\u001b[0;34m(\u001b[0m\u001b[0;34m)\u001b[0m \u001b[0;34m==\u001b[0m \u001b[0;32mFalse\u001b[0m\u001b[0;34m)\u001b[0m\u001b[0;34m\u001b[0m\u001b[0;34m\u001b[0m\u001b[0m\n\u001b[0m",
      "\u001b[0;31mTypeError\u001b[0m: 'DataFrame' object is not callable"
     ]
    }
   ],
   "source": [
    "user_df(user_df['birthday'].isnull() == False)"
   ]
  },
  {
   "cell_type": "code",
   "execution_count": null,
   "metadata": {},
   "outputs": [],
   "source": []
  },
  {
   "cell_type": "code",
   "execution_count": null,
   "metadata": {},
   "outputs": [],
   "source": []
  },
  {
   "cell_type": "code",
   "execution_count": 190,
   "metadata": {},
   "outputs": [
    {
     "data": {
      "text/plain": [
       "0          842457600000\n",
       "1          882374400000\n",
       "2          744480000000\n",
       "3          923932800000\n",
       "4          558457200000\n",
       "5          968256000000\n",
       "6          777139200000\n",
       "7          915120000000\n",
       "8          510768000000\n",
       "9          784051200000\n",
       "10         987782400000\n",
       "11         849110400000\n",
       "12         965836800000\n",
       "13         855158400000\n",
       "14         972662400000\n",
       "15         649436400000\n",
       "16         610729200000\n",
       "17        1017072000000\n",
       "18         946828800000\n",
       "19         629395200000\n",
       "20         390585600000\n",
       "21         800380800000\n",
       "22         895334400000\n",
       "23         325008000000\n",
       "24         870019200000\n",
       "25        1041696000000\n",
       "26         683391600000\n",
       "27         741974400000\n",
       "28         596131200000\n",
       "29         763228800000\n",
       "              ...      \n",
       "999825      6.29741e+11\n",
       "999826      9.63763e+11\n",
       "999827        8.352e+11\n",
       "999831      8.86349e+11\n",
       "999840      8.62762e+11\n",
       "999855       8.7503e+11\n",
       "999864      6.56179e+11\n",
       "999867      9.96336e+11\n",
       "999869      9.47606e+11\n",
       "999877       9.7223e+11\n",
       "999879      1.02813e+12\n",
       "999880      8.68378e+11\n",
       "999885      9.53914e+11\n",
       "999890              NaN\n",
       "999898      6.11939e+11\n",
       "999904       8.2777e+11\n",
       "999915      1.00256e+12\n",
       "999925      6.67757e+11\n",
       "999935      6.13926e+11\n",
       "999944      8.55504e+11\n",
       "999955      6.77171e+11\n",
       "999957      8.52048e+11\n",
       "999958      5.46707e+11\n",
       "999959       8.9784e+11\n",
       "999961      4.08211e+11\n",
       "999964       7.6081e+11\n",
       "999982      9.61085e+11\n",
       "999984      8.99395e+11\n",
       "999994      9.59011e+11\n",
       "999998      9.44237e+11\n",
       "Name: birthday, Length: 318665, dtype: object"
      ]
     },
     "execution_count": 190,
     "metadata": {},
     "output_type": "execute_result"
    }
   ],
   "source": [
    "user_df['birthday']"
   ]
  },
  {
   "cell_type": "code",
   "execution_count": 69,
   "metadata": {
    "scrolled": false
   },
   "outputs": [
    {
     "name": "stdout",
     "output_type": "stream",
     "text": [
      "['1', '9', '7', '4'] ['1', '2'] ['2', ' '] 4\n",
      "['1', '9', '7', '4'] ['1', '2'] ['7', ' '] 4\n",
      "['1', '9', '7', '4'] ['1', '2'] ['5', ' '] 4\n",
      "['1', '9', '7', '4'] ['1', '2'] ['7', ' '] 4\n",
      "['1', '9', '7', '4'] ['1', '2'] ['2', ' '] 4\n",
      "['1', '9', '7', '4'] ['1', '2'] ['1', ' '] 4\n",
      "['1', '9', '7', '4'] ['1', '2'] ['1', ' '] 4\n"
     ]
    },
    {
     "ename": "TypeError",
     "evalue": "cannot unpack non-iterable int object",
     "output_type": "error",
     "traceback": [
      "\u001b[0;31m---------------------------------------------------------------------------\u001b[0m",
      "\u001b[0;31mTypeError\u001b[0m                                 Traceback (most recent call last)",
      "\u001b[0;32m<ipython-input-69-21d8a6cc770f>\u001b[0m in \u001b[0;36m<module>\u001b[0;34m\u001b[0m\n\u001b[1;32m      3\u001b[0m     \u001b[0mprint\u001b[0m\u001b[0;34m(\u001b[0m\u001b[0myear\u001b[0m\u001b[0;34m,\u001b[0m\u001b[0mmonth\u001b[0m\u001b[0;34m,\u001b[0m\u001b[0mday\u001b[0m\u001b[0;34m,\u001b[0m\u001b[0mhour\u001b[0m\u001b[0;34m)\u001b[0m\u001b[0;34m\u001b[0m\u001b[0;34m\u001b[0m\u001b[0m\n\u001b[1;32m      4\u001b[0m \u001b[0muser_df\u001b[0m\u001b[0;34m[\u001b[0m\u001b[0;34m'survey_finished_at'\u001b[0m\u001b[0;34m]\u001b[0m \u001b[0;34m=\u001b[0m \u001b[0muser_df\u001b[0m\u001b[0;34m[\u001b[0m\u001b[0;34m'survey_finished_at'\u001b[0m\u001b[0;34m]\u001b[0m\u001b[0;34m.\u001b[0m\u001b[0mastype\u001b[0m\u001b[0;34m(\u001b[0m\u001b[0mstr\u001b[0m\u001b[0;34m)\u001b[0m\u001b[0;34m\u001b[0m\u001b[0;34m\u001b[0m\u001b[0m\n\u001b[0;32m----> 5\u001b[0;31m \u001b[0muser_df\u001b[0m\u001b[0;34m[\u001b[0m\u001b[0;34m'survey_finished_at'\u001b[0m\u001b[0;34m]\u001b[0m\u001b[0;34m.\u001b[0m\u001b[0mapply\u001b[0m\u001b[0;34m(\u001b[0m\u001b[0mfun_1\u001b[0m\u001b[0;34m)\u001b[0m\u001b[0;34m\u001b[0m\u001b[0;34m\u001b[0m\u001b[0m\n\u001b[0m\u001b[1;32m      6\u001b[0m \u001b[0;34m\u001b[0m\u001b[0m\n",
      "\u001b[0;32m~/anaconda3/lib/python3.7/site-packages/pandas/core/series.py\u001b[0m in \u001b[0;36mapply\u001b[0;34m(self, func, convert_dtype, args, **kwds)\u001b[0m\n\u001b[1;32m   3192\u001b[0m             \u001b[0;32melse\u001b[0m\u001b[0;34m:\u001b[0m\u001b[0;34m\u001b[0m\u001b[0;34m\u001b[0m\u001b[0m\n\u001b[1;32m   3193\u001b[0m                 \u001b[0mvalues\u001b[0m \u001b[0;34m=\u001b[0m \u001b[0mself\u001b[0m\u001b[0;34m.\u001b[0m\u001b[0mastype\u001b[0m\u001b[0;34m(\u001b[0m\u001b[0mobject\u001b[0m\u001b[0;34m)\u001b[0m\u001b[0;34m.\u001b[0m\u001b[0mvalues\u001b[0m\u001b[0;34m\u001b[0m\u001b[0;34m\u001b[0m\u001b[0m\n\u001b[0;32m-> 3194\u001b[0;31m                 \u001b[0mmapped\u001b[0m \u001b[0;34m=\u001b[0m \u001b[0mlib\u001b[0m\u001b[0;34m.\u001b[0m\u001b[0mmap_infer\u001b[0m\u001b[0;34m(\u001b[0m\u001b[0mvalues\u001b[0m\u001b[0;34m,\u001b[0m \u001b[0mf\u001b[0m\u001b[0;34m,\u001b[0m \u001b[0mconvert\u001b[0m\u001b[0;34m=\u001b[0m\u001b[0mconvert_dtype\u001b[0m\u001b[0;34m)\u001b[0m\u001b[0;34m\u001b[0m\u001b[0;34m\u001b[0m\u001b[0m\n\u001b[0m\u001b[1;32m   3195\u001b[0m \u001b[0;34m\u001b[0m\u001b[0m\n\u001b[1;32m   3196\u001b[0m         \u001b[0;32mif\u001b[0m \u001b[0mlen\u001b[0m\u001b[0;34m(\u001b[0m\u001b[0mmapped\u001b[0m\u001b[0;34m)\u001b[0m \u001b[0;32mand\u001b[0m \u001b[0misinstance\u001b[0m\u001b[0;34m(\u001b[0m\u001b[0mmapped\u001b[0m\u001b[0;34m[\u001b[0m\u001b[0;36m0\u001b[0m\u001b[0;34m]\u001b[0m\u001b[0;34m,\u001b[0m \u001b[0mSeries\u001b[0m\u001b[0;34m)\u001b[0m\u001b[0;34m:\u001b[0m\u001b[0;34m\u001b[0m\u001b[0;34m\u001b[0m\u001b[0m\n",
      "\u001b[0;32mpandas/_libs/src/inference.pyx\u001b[0m in \u001b[0;36mpandas._libs.lib.map_infer\u001b[0;34m()\u001b[0m\n",
      "\u001b[0;32m<ipython-input-69-21d8a6cc770f>\u001b[0m in \u001b[0;36mfun_1\u001b[0;34m(row)\u001b[0m\n\u001b[1;32m      1\u001b[0m \u001b[0;32mdef\u001b[0m \u001b[0mfun_1\u001b[0m\u001b[0;34m(\u001b[0m\u001b[0mrow\u001b[0m\u001b[0;34m)\u001b[0m\u001b[0;34m:\u001b[0m\u001b[0;34m\u001b[0m\u001b[0;34m\u001b[0m\u001b[0m\n\u001b[0;32m----> 2\u001b[0;31m     \u001b[0myear\u001b[0m\u001b[0;34m,\u001b[0m\u001b[0mmonth\u001b[0m\u001b[0;34m,\u001b[0m\u001b[0mday\u001b[0m\u001b[0;34m,\u001b[0m\u001b[0mhour\u001b[0m \u001b[0;34m=\u001b[0m \u001b[0mtime_process\u001b[0m\u001b[0;34m(\u001b[0m\u001b[0mrow\u001b[0m\u001b[0;34m)\u001b[0m\u001b[0;34m\u001b[0m\u001b[0;34m\u001b[0m\u001b[0m\n\u001b[0m\u001b[1;32m      3\u001b[0m     \u001b[0mprint\u001b[0m\u001b[0;34m(\u001b[0m\u001b[0myear\u001b[0m\u001b[0;34m,\u001b[0m\u001b[0mmonth\u001b[0m\u001b[0;34m,\u001b[0m\u001b[0mday\u001b[0m\u001b[0;34m,\u001b[0m\u001b[0mhour\u001b[0m\u001b[0;34m)\u001b[0m\u001b[0;34m\u001b[0m\u001b[0;34m\u001b[0m\u001b[0m\n\u001b[1;32m      4\u001b[0m \u001b[0muser_df\u001b[0m\u001b[0;34m[\u001b[0m\u001b[0;34m'survey_finished_at'\u001b[0m\u001b[0;34m]\u001b[0m \u001b[0;34m=\u001b[0m \u001b[0muser_df\u001b[0m\u001b[0;34m[\u001b[0m\u001b[0;34m'survey_finished_at'\u001b[0m\u001b[0;34m]\u001b[0m\u001b[0;34m.\u001b[0m\u001b[0mastype\u001b[0m\u001b[0;34m(\u001b[0m\u001b[0mstr\u001b[0m\u001b[0;34m)\u001b[0m\u001b[0;34m\u001b[0m\u001b[0;34m\u001b[0m\u001b[0m\n\u001b[1;32m      5\u001b[0m \u001b[0muser_df\u001b[0m\u001b[0;34m[\u001b[0m\u001b[0;34m'survey_finished_at'\u001b[0m\u001b[0;34m]\u001b[0m\u001b[0;34m.\u001b[0m\u001b[0mapply\u001b[0m\u001b[0;34m(\u001b[0m\u001b[0mfun_1\u001b[0m\u001b[0;34m)\u001b[0m\u001b[0;34m\u001b[0m\u001b[0;34m\u001b[0m\u001b[0m\n",
      "\u001b[0;31mTypeError\u001b[0m: cannot unpack non-iterable int object"
     ]
    }
   ],
   "source": [
    "def fun_1(row):\n",
    "    year,month,day,hour = time_process(row)\n",
    "    print(year,month,day,hour)\n",
    "user_df['survey_finished_at'] = user_df['survey_finished_at'].astype(str)\n",
    "user_df['survey_finished_at'].apply(fun_1)"
   ]
  },
  {
   "cell_type": "code",
   "execution_count": 30,
   "metadata": {},
   "outputs": [
    {
     "data": {
      "text/plain": [
       "'2020'"
      ]
     },
     "execution_count": 30,
     "metadata": {},
     "output_type": "execute_result"
    }
   ],
   "source": [
    "def time_process(data_time):\n",
    "    try:\n",
    "        time_tmp = time.localtime(int(data_time[:9]))\n",
    "    except:\n",
    "        return 4\n",
    "    time_tmp = time.strftime(\"%Y-%m-%d %H:%M:%S\",time_tmp)\n",
    "    year = list(time_tmp)[:4]\n",
    "    month = list(time_tmp)[5:7]\n",
    "    day = list(time_tmp)[9:11]\n",
    "    hour = list(time_tmp)[3]\n",
    "    return year,month,day,hour "
   ]
  },
  {
   "cell_type": "code",
   "execution_count": 106,
   "metadata": {},
   "outputs": [],
   "source": [
    "\n",
    "    "
   ]
  },
  {
   "cell_type": "code",
   "execution_count": null,
   "metadata": {},
   "outputs": [],
   "source": []
  },
  {
   "cell_type": "code",
   "execution_count": null,
   "metadata": {},
   "outputs": [],
   "source": []
  },
  {
   "cell_type": "code",
   "execution_count": null,
   "metadata": {},
   "outputs": [],
   "source": []
  },
  {
   "cell_type": "code",
   "execution_count": null,
   "metadata": {},
   "outputs": [],
   "source": []
  },
  {
   "cell_type": "code",
   "execution_count": null,
   "metadata": {},
   "outputs": [],
   "source": []
  },
  {
   "cell_type": "code",
   "execution_count": null,
   "metadata": {},
   "outputs": [],
   "source": []
  },
  {
   "cell_type": "code",
   "execution_count": null,
   "metadata": {},
   "outputs": [],
   "source": []
  },
  {
   "cell_type": "code",
   "execution_count": null,
   "metadata": {},
   "outputs": [],
   "source": []
  },
  {
   "cell_type": "code",
   "execution_count": null,
   "metadata": {},
   "outputs": [],
   "source": []
  },
  {
   "cell_type": "code",
   "execution_count": null,
   "metadata": {},
   "outputs": [],
   "source": []
  },
  {
   "cell_type": "code",
   "execution_count": null,
   "metadata": {},
   "outputs": [],
   "source": []
  },
  {
   "cell_type": "code",
   "execution_count": null,
   "metadata": {},
   "outputs": [],
   "source": []
  },
  {
   "cell_type": "code",
   "execution_count": null,
   "metadata": {},
   "outputs": [],
   "source": []
  },
  {
   "cell_type": "code",
   "execution_count": null,
   "metadata": {},
   "outputs": [],
   "source": []
  },
  {
   "cell_type": "code",
   "execution_count": null,
   "metadata": {},
   "outputs": [],
   "source": []
  },
  {
   "cell_type": "code",
   "execution_count": null,
   "metadata": {},
   "outputs": [],
   "source": []
  },
  {
   "cell_type": "code",
   "execution_count": null,
   "metadata": {},
   "outputs": [],
   "source": []
  },
  {
   "cell_type": "code",
   "execution_count": null,
   "metadata": {},
   "outputs": [],
   "source": []
  },
  {
   "cell_type": "code",
   "execution_count": null,
   "metadata": {},
   "outputs": [],
   "source": []
  }
 ],
 "metadata": {
  "kernelspec": {
   "display_name": "Python 3",
   "language": "python",
   "name": "python3"
  },
  "language_info": {
   "codemirror_mode": {
    "name": "ipython",
    "version": 3
   },
   "file_extension": ".py",
   "mimetype": "text/x-python",
   "name": "python",
   "nbconvert_exporter": "python",
   "pygments_lexer": "ipython3",
   "version": "3.7.1"
  }
 },
 "nbformat": 4,
 "nbformat_minor": 2
}
