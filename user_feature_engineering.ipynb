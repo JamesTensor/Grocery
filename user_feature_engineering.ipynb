{
 "cells": [
  {
   "cell_type": "code",
   "execution_count": 61,
   "metadata": {},
   "outputs": [],
   "source": [
    "import pandas as pd\n",
    "from pandas import Series\n",
    "import numpy as np\n",
    "from joblib import Parallel, delayed\n",
    "import json\n",
    "from scipy.sparse import hstack\n",
    "import time\n",
    "from datetime import datetime\n",
    "from imblearn.over_sampling import RandomOverSampler\n",
    "from collections import Counter\n",
    "from sklearn.preprocessing.data import OneHotEncoder\n",
    "from sklearn import preprocessing\n"
   ]
  },
  {
   "cell_type": "markdown",
   "metadata": {},
   "source": [
    "# 工具函数"
   ]
  },
  {
   "cell_type": "code",
   "execution_count": 158,
   "metadata": {},
   "outputs": [],
   "source": [
    "#年龄处理\n",
    "time_now = int(time.time())\n",
    "time_local = time.localtime(time_now)\n",
    "now_year = time.strftime(\"%Y-%m-%d %H:%M:%S\",time_local)\n",
    "now_year = int(now_year[:4])\n",
    "def age_process(birthday):\n",
    "    #len(list(user_df.loc[2,'birthday'])) = 12,后三位为毫秒\n",
    "    try:\n",
    "        time_local = time.localtime(int(birthday[:9]))\n",
    "    except:\n",
    "        return 4\n",
    "    birth_year = time.strftime(\"%Y-%m-%d %H:%M:%S\",time_local)\n",
    "    age = now_year - int(birth_year[:4])\n",
    "    if age==0:\n",
    "        return 0\n",
    "    elif age<18:\n",
    "        return 1\n",
    "    elif age<20:\n",
    "        return 3\n",
    "    elif age<22:\n",
    "        return 4\n",
    "    elif age<24:\n",
    "        return 5\n",
    "    elif age<26:\n",
    "        return 6\n",
    "    elif age<28:\n",
    "        return 7\n",
    "    elif age<30:\n",
    "        return 8\n",
    "    elif age<32:\n",
    "        return 9\n",
    "    elif age<34:\n",
    "        return 10\n",
    "    elif age<36:\n",
    "        return 11\n",
    "    elif age<38:\n",
    "        return 12\n",
    "    elif age<45:\n",
    "        return 13\n",
    "    elif age<60:\n",
    "        return 14\n",
    "    else:\n",
    "        return 15\n",
    "\n",
    "def register_type_fun(row):\n",
    "    register_type_list = row.split(',')\n",
    "    tmp_list = [0,0,0,0,0,0]\n",
    "    if 'weixin' in register_type_list:\n",
    "        tmp_list[0] = 1\n",
    "    if 'sns' in register_type_list:\n",
    "        tmp_list[1] = 1\n",
    "    if 'sina_weibo' in register_type_list:\n",
    "        tmp_list[2] = 1\n",
    "    if 'qq_zone' in register_type_list:\n",
    "        tmp_list[3] = 1\n",
    "    if 'missing' in register_type_list:\n",
    "        tmp_list[5] = 1\n",
    "    if 'cellphone' in register_type_list:\n",
    "        tmp_list[4] = 1\n",
    "    if 'xiaomi' in register_type_list:\n",
    "        tmp_list[5] = 1\n",
    "    if 'device' in register_type_list:\n",
    "        tmp_list[5] = 1\n",
    "    return tmp_list\n",
    "\n",
    "def columbus_user_tags_fun(row):\n",
    "    columbus_user_tags_list = row.split(',')\n",
    "    tmp_list = [0,0,0,0,0,0]\n",
    "    if 'weixin' in register_type_list:\n",
    "        tmp_list[0] = 1\n",
    "    if 'sns' in register_type_list:\n",
    "        tmp_list[1] = 1\n",
    "    if 'sina_weibo' in register_type_list:\n",
    "        tmp_list[2] = 1\n",
    "    if 'qq_zone' in register_type_list:\n",
    "        tmp_list[3] = 1\n",
    "    if 'missing' in register_type_list:\n",
    "        tmp_list[5] = 1\n",
    "    if 'cellphone' in register_type_list:\n",
    "        tmp_list[4] = 1\n",
    "    if 'xiaomi' in register_type_list:\n",
    "        tmp_list[5] = 1\n",
    "    if 'device' in register_type_list:\n",
    "        tmp_list[5] = 1\n",
    "    return tmp_list\n",
    "\n",
    "def time_process(data_time):\n",
    "    try:\n",
    "        time_tmp = time.localtime(int(data_time[:9]))\n",
    "    except:\n",
    "        return 4\n",
    "    time_tmp = time.strftime(\"%Y-%m-%d %H:%M:%S\",time_tmp)\n",
    "    year = list(time_tmp)[:4]\n",
    "    month = list(time_tmp)[5:7]\n",
    "    day = list(time_tmp)[9:11]\n",
    "    hour = list(time_tmp)[3]\n",
    "    return year,month,day,hour \n",
    "\n",
    "def activate_channel_label_fun(slug):\n",
    "    slug = str(slug)\n",
    "    if slug=='record_eating_activity':\n",
    "        return 1\n",
    "    elif slug=='record_weight':\n",
    "        return 2\n",
    "    elif slug=='post_create':\n",
    "        return 3\n",
    "    elif slug=='habit_checkin':\n",
    "        return 4\n",
    "    elif slug=='search_food':\n",
    "        return 5\n",
    "    elif slug=='finished_sports':\n",
    "        return 6\n",
    "    else:  \n",
    "        return 0\n",
    "    \n",
    "def special_condition_label_fun(x):\n",
    "    x = str(x)\n",
    "    if x=='0.0' or x=='0':\n",
    "        return 0\n",
    "    elif x=='1.0' or x=='1':\n",
    "        return 1\n",
    "    elif x=='2.0' or x=='2':\n",
    "        return 2\n",
    "    elif x=='3.0' or x=='3':\n",
    "        return 3\n",
    "    else:  \n",
    "        return 4\n",
    "\n",
    "# 四分位箱线图处理异常值\n",
    "def box_plot(data_series,feature_name):\n",
    "    data_series = pd.Series(sorted(data_series))\n",
    "    #q_abnormal_low = data_series.quantile(0.25) - 1.5 * (data_series.quantile(0.75) - data_series.quantile(0.25))\n",
    "    q_abnormal_up = data_series.quantile(0.90) + 1.5 * (data_series.quantile(0.90) - data_series.quantile(0.25))\n",
    "    q_abnormal_up = int(round(q_abnormal_up,0))\n",
    "    data_series = data_series.apply(lambda x:q_abnormal_up if x>q_abnormal_up else x)\n",
    "    return data_series\n",
    "    \n",
    "def _load_data(data_file):\n",
    "    user_df = pd.read_csv(filepath_or_buffer = data_file,sep=\",\",names=user_feature_list)\n",
    "    user_df.drop(labels=None,axis=0, index=0, columns=None, inplace=True)\n",
    "    return user_df\n",
    "\n",
    "def app_version_func(app_version):\n",
    "    if app_version == '7.4' or app_version =='9.4':\n",
    "        app_version = 'high'\n",
    "    elif app_version == '7.3' or app_version =='9.3':\n",
    "        app_version = 'medium'\n",
    "    elif app_version == 'nan':\n",
    "         app_version == 'missing'\n",
    "    else:\n",
    "        app_version = 'low'\n",
    "    return app_version\n"
   ]
  },
  {
   "cell_type": "markdown",
   "metadata": {},
   "source": [
    "# 时间函数"
   ]
  },
  {
   "cell_type": "code",
   "execution_count": 202,
   "metadata": {},
   "outputs": [],
   "source": [
    "def timestamp_to_year(date_timestamp): \n",
    "    time_tmp = time.localtime(int(date_timestamp/1000))\n",
    "    date = time.strftime(\"%Y-%m-%d %H:%M:%S\",time_tmp)\n",
    "    year = int(date[:4]) \n",
    "    \n",
    "    if year <= 2017:\n",
    "        year=2017\n",
    "    return year\n",
    "\n",
    "def timestamp_to_month(date_timestamp): \n",
    "    time_tmp = time.localtime(int(date_timestamp/1000))\n",
    "    date = time.strftime(\"%Y-%m-%d %H:%M:%S\",time_tmp) \n",
    "    month = int(date[5:7])\n",
    "    return month\n",
    "\n",
    "def timestamp_to_day(date_timestamp): \n",
    "    time_tmp = time.localtime(int(date_timestamp/1000))\n",
    "    date = time.strftime(\"%Y-%m-%d %H:%M:%S\",time_tmp)\n",
    "    day = int(date[8:11])\n",
    "    return day\n",
    "\n",
    "def timestamp_to_hour(date_timestamp): \n",
    "    time_tmp = time.localtime(int(date_timestamp/1000))\n",
    "    date = time.strftime(\"%Y-%m-%d %H:%M:%S\",time_tmp)\n",
    "    hour = int(date[11:13])\n",
    "    if 12 < hour <= 7:\n",
    "        hour = 'hour_night'\n",
    "    elif 8 < hour <= 11:\n",
    "        hour = 'hour_moring'\n",
    "    elif 11 < hour <= 13:\n",
    "        hour = 'hour_noon'\n",
    "    elif 13 < hour <= 17:\n",
    "        hour = 'hour_afternoon'\n",
    "    elif 18 < hour <= 12:\n",
    "       hour = 'hour_evening'\n",
    "    else:\n",
    "        hour = 'hour_missing'\n",
    "    return hour\n",
    "\n",
    "def timestamp_to_week(date_timestamp): \n",
    "    date_datetime = datetime.fromtimestamp(int(date_timestamp/1000)) \n",
    "    week = date_datetime.strftime('%A')\n",
    "    if week == 'Sunday' or week == 'Saturday':\n",
    "        week == 'weekend'\n",
    "    elif week == 'Tuesday':\n",
    "        week == 'tuesday'\n",
    "    elif week == 'Monday' or week == 'Wednesday' or week == 'Thursday' or week == 'Friday':\n",
    "        week == 'weekday'\n",
    "    else:\n",
    "        week ==\"week_missing\"\n",
    "    return week\n",
    "\n",
    "def timestamp_to_season(date_timestamp): \n",
    "    time_tmp = time.localtime(int(date_timestamp/1000))\n",
    "    date = time.strftime(\"%Y-%m-%d %H:%M:%S\",time_tmp) \n",
    "    month = int(date[5:7])\n",
    "    if month == 3 or month == 4 or month == 5:\n",
    "        season = 'season_spring'\n",
    "    elif month == 6 or month == 7 or month == 8:\n",
    "        season = 'season_summer'\n",
    "    elif month == 9 or month == 10 or month == 11:\n",
    "        season = 'season_autumn'\n",
    "    elif month == 12 or month == 1 or month == 2:\n",
    "        season = 'season_winter'\n",
    "    else:\n",
    "        season = 'season_missing'\n",
    "    return season\n"
   ]
  },
  {
   "cell_type": "code",
   "execution_count": 203,
   "metadata": {},
   "outputs": [],
   "source": [
    "data_file_list = [\n",
    "'/Users/wjj/Desktop/jupyter/Boohee_GBDT+LR/data/0102/用户反例原始数据/view_comment_not_add_buy_user_12.csv',\n",
    "\n",
    "]\n",
    "user_feature_list = [\n",
    " 'second_id','slug','time','birthday','register_timestamp','first_visit_time','survey_finished_at',\n",
    " 'first_traffic_source_type','register_source_app_key','register_type',\n",
    " 'register_sns','gender','phone_model','app_channel','app_version','os_version','province','city_level','purpose',\n",
    " 'target_weight','start_weight','latest_weight','bmi','budget_calory',\n",
    " 'view_goods_count','add_cart_count','commit_order_count','num_paid','eka_num_paid',\n",
    " 'total_cost','recent_buy_at','record_food_count','search_food_count','record_weight_count',\n",
    " 'finished_sports_count','habbit_checkin_count','post_create_count',\n",
    " 'active_day_count','activate_channel','special_condition','easy_customer_first_buy_time',\n",
    " 'easy_membership_first_platform','easy_membership_first_time','user_membership_status','user_fans_status',\n",
    " 'guide_to_bh_at','wx_assistant_friend','columbus_user_tags'\n",
    "]\n"
   ]
  },
  {
   "cell_type": "code",
   "execution_count": 284,
   "metadata": {},
   "outputs": [],
   "source": [
    "user_df = pd.DataFrame(columns = user_feature_list)\n",
    "for i in data_file_list:\n",
    "    user_tmp_df =  _load_data(i)\n",
    "    user_df = pd.concat([user_df,user_tmp_df],ignore_index=True)\n",
    "user_df = user_df[~user_df['second_id'].isin(['second_id'])]\n",
    "user_df = user_df.drop_duplicates('second_id')\n",
    "del user_df['columbus_user_tags']\n",
    "del user_df['time']\n",
    "del user_df['os_version']\n",
    "user_df = user_df.head(100000)"
   ]
  },
  {
   "cell_type": "code",
   "execution_count": 285,
   "metadata": {},
   "outputs": [],
   "source": [
    "#phonemodel特征,不要重复跑，不然报错\n",
    "#user_df['phone_model'] = user_df['phone_model'].fillna('1')\n",
    "user_df.loc[(user_df[\"phone_model\"]=='iPhone'),\"phone_model\"] = 2\n",
    "user_df.loc[(user_df[\"phone_model\"]!='iPhone'),\"phone_model\"] = 1"
   ]
  },
  {
   "cell_type": "code",
   "execution_count": 286,
   "metadata": {},
   "outputs": [],
   "source": [
    "#purpose\n",
    "user_df.loc[(user_df[\"purpose\"]=='lost_weight'),\"purpose_label\"] = 1\n",
    "user_df.loc[(user_df[\"purpose\"]=='keep_muscle'),\"purpose_label\"] = 2\n",
    "user_df.loc[(user_df[\"purpose\"]=='gain_muscle'),\"purpose_label\"] = 3\n",
    "user_df.loc[(user_df[\"purpose\"]!='lost_weight') & (user_df[\"purpose\"]!='keep_muscle') &(user_df[\"purpose\"]!='gain_muscle'),\"purpose_label\"] = 4\n",
    "user_df['purpose_label'] = user_df['purpose_label'].fillna(5)\n",
    "del user_df['purpose']"
   ]
  },
  {
   "cell_type": "code",
   "execution_count": 287,
   "metadata": {},
   "outputs": [],
   "source": [
    "#个人信息特征空值，不要重复跑，不然报错\n",
    "user_df['city_level'].fillna(2,inplace=True)\n",
    "user_df['city_level'] = user_df['city_level'].astype(np.int32)\n",
    "#province_list = user_df['province'].value_counts().keys().tolist()[:37]\n",
    "province_list=['广东省', '江苏省', '浙江省', '北京', '上海', '山东省', '河南省', '四川省', '湖北省', '河北省', '湖南省', '安徽省', '辽宁省', '福建省', '陕西省', '重庆', '江西省', '天津', '云南省', '黑龙江省', '山西省', '未知', '广西', '吉林省', '内蒙古', '贵州省', '新疆', '甘肃省', '海南省', '宁夏', '香港', '青海省', '台湾省', '澳门', '西藏']\n",
    "user_df['province'].fillna('未知',inplace = True)\n",
    "user_df['province'] = user_df['province'].apply(lambda x:x if x in province_list else '国外')\n",
    "encoder = preprocessing.LabelEncoder()\n",
    "encoder.fit(user_df['province'])\n",
    "user_df['province'] = encoder.transform(user_df['province'])\n",
    "user_df[\"gender\"].fillna(2, inplace=True)\n",
    "user_df['gender'] = user_df['gender'].apply(lambda x:1 if x=='1' or x==1 or x==1.0 else 2)\n",
    "user_df[\"activate_channel\"] = user_df[\"activate_channel\"].apply(activate_channel_label_fun)\n",
    "user_df[\"special_condition\"] = user_df[\"special_condition\"].apply(special_condition_label_fun)"
   ]
  },
  {
   "cell_type": "code",
   "execution_count": 288,
   "metadata": {},
   "outputs": [],
   "source": [
    "#用户行为特征\n",
    "feature_box_plot_list = ['view_goods_count', 'record_food_count', 'search_food_count','record_weight_count','active_day_count']                              \n",
    "for i in feature_box_plot_list:\n",
    "    user_df[i].fillna(0,inplace=True)\n",
    "    user_df[i] = user_df[i].astype(np.int32)\n",
    "    user_df[i] = box_plot(user_df[i],i)\n",
    "    user_df[i].fillna(0,inplace=True)\n",
    "    \n",
    "# PND模型处理异常值\n",
    "feature_custom_list = ['habbit_checkin_count','total_cost','num_paid','add_cart_count','eka_num_paid','commit_order_count','post_create_count','finished_sports_count']\n",
    "for i in feature_custom_list:\n",
    "    user_df[i].fillna(0,inplace=True)\n",
    "    user_df[i] = user_df[i].astype(np.float32)\n",
    "user_df['habbit_checkin_count'] = user_df['habbit_checkin_count'].apply(lambda x:200 if x>200 else x)\n",
    "user_df['add_cart_count'] = user_df['add_cart_count'].apply(lambda x:80 if x>80 else x)\n",
    "user_df['total_cost'] = user_df['total_cost'].apply(lambda x:5000 if x>5000 else x)\n",
    "user_df['num_paid'] = user_df['num_paid'].apply(lambda x:20 if x>20 else x)\n",
    "user_df['eka_num_paid'] = user_df['eka_num_paid'].apply(lambda x:20 if x>20 else x)\n",
    "user_df['commit_order_count'] = user_df['commit_order_count'].apply(lambda x:30 if x>30 else x)\n",
    "user_df['post_create_count'] = user_df['post_create_count'].apply(lambda x:50 if x>50 else x)\n",
    "user_df['finished_sports_count'] = user_df['finished_sports_count'].apply(lambda x:80 if x>80 else x)\n",
    "   "
   ]
  },
  {
   "cell_type": "code",
   "execution_count": 289,
   "metadata": {},
   "outputs": [],
   "source": [
    "#用户体制特征使用平均填充\n",
    "feature_body_list = [\"target_weight\",\"start_weight\",\"latest_weight\",\"bmi\",\"budget_calory\"]\n",
    "for i in feature_body_list:\n",
    "    user_df[i] = user_df[i].astype(np.float32)\n",
    "    mean_val = user_df[i].mean()\n",
    "    user_df[i].fillna(mean_val, inplace=True)\n",
    "del mean_val"
   ]
  },
  {
   "cell_type": "code",
   "execution_count": 290,
   "metadata": {},
   "outputs": [],
   "source": [
    "#时间特征\n",
    "#年龄特征处理\n",
    "user_df['birthday'] = user_df['birthday'].astype(str)\n",
    "user_df['birthday'] = user_df['birthday'].apply(age_process)"
   ]
  },
  {
   "cell_type": "code",
   "execution_count": 291,
   "metadata": {},
   "outputs": [],
   "source": [
    "user_df['register_sns'] = user_df['register_sns'].fillna('missing')\n",
    "user_df= user_df.join(pd.get_dummies(user_df['register_sns'],prefix='register_sns_'))\n",
    "del user_df['register_sns']"
   ]
  },
  {
   "cell_type": "code",
   "execution_count": 292,
   "metadata": {},
   "outputs": [],
   "source": [
    "#app_channel onehot\n",
    "app_channel_list = ['missing', 'huawei','nearme', 'vivo','xiaomi','boohee','tencent','meizu', '_360','baidu','wandoujia','undefind','lenovo','zhihuan','oppo','other',]\n",
    "user_df['app_channel'] = user_df['app_channel'].apply(lambda x:'vivo' if x == 'oppo' else x)\n",
    "user_df['app_channel'] = user_df['app_channel'].apply(lambda x:x if x in app_channel_list else 'other')\n",
    "user_df= user_df.join(pd.get_dummies(user_df['app_channel'],prefix='app_channel_'))\n",
    "del user_df['app_channel']"
   ]
  },
  {
   "cell_type": "code",
   "execution_count": 293,
   "metadata": {},
   "outputs": [],
   "source": [
    "#注册方式onehot\n",
    "user_df['register_type'] = user_df['register_type'].fillna('missing')\n",
    "user_df['register_type']= pd.DataFrame(user_df['register_type'].apply(register_type_fun))\n",
    "user_df['register_type_weixin'] = user_df['register_type'].apply(lambda x:x[0])\n",
    "user_df['register_type_sns'] = user_df['register_type'].apply(lambda x:x[1])\n",
    "user_df['register_type_sina_weibo'] = user_df['register_type'].apply(lambda x:x[2])\n",
    "user_df['register_type_qq_zone'] = user_df['register_type'].apply(lambda x:x[3])\n",
    "user_df['register_type_cellphone'] = user_df['register_type'].apply(lambda x:x[4])\n",
    "user_df['register_type_missing'] = user_df['register_type'].apply(lambda x:x[5])\n",
    "del user_df['register_type']"
   ]
  },
  {
   "cell_type": "code",
   "execution_count": 294,
   "metadata": {},
   "outputs": [],
   "source": [
    "user_df['first_traffic_source_type'].fillna('missing',inplace=True)\n",
    "user_df['first_traffic_source_type'] = user_df['first_traffic_source_type'].apply(lambda x:'direct' if x == '直接流量' else x)\n",
    "user_df['first_traffic_source_type'] = user_df['first_traffic_source_type'].apply(lambda x:'indirect' if x == '引荐流量'  else x)\n",
    "user_df= user_df.join(pd.get_dummies(user_df['first_traffic_source_type'],prefix='first_traffic_source_type_'))\n",
    "del user_df['first_traffic_source_type']"
   ]
  },
  {
   "cell_type": "code",
   "execution_count": 295,
   "metadata": {},
   "outputs": [],
   "source": [
    "user_df['register_source_app_key'] = user_df['register_source_app_key'].apply(lambda x:x if x == 'ifood' or x == 'boohee_weixin' or x == 'one' or x == 'food' or x == 'nice' else 'missing')            \n",
    "user_df= user_df.join(pd.get_dummies(user_df['register_source_app_key'],prefix='register_source_app_key_'))\n",
    "del user_df['register_source_app_key']"
   ]
  },
  {
   "cell_type": "code",
   "execution_count": 296,
   "metadata": {},
   "outputs": [],
   "source": [
    "user_df['easy_membership_first_platform'].fillna('missing',inplace=True)\n",
    "user_df= user_df.join(pd.get_dummies(user_df['easy_membership_first_platform'],prefix='easy_membership_first_platform_'))\n",
    "del user_df['easy_membership_first_platform']"
   ]
  },
  {
   "cell_type": "code",
   "execution_count": 297,
   "metadata": {},
   "outputs": [],
   "source": [
    "user_df['user_membership_status'].fillna('missing',inplace=True)\n",
    "user_df['user_membership_status'] = user_df['user_membership_status'].apply(lambda x:'member_expire' if x == 'member_canceled' else x)\n",
    "user_df['user_membership_status'] = user_df['user_membership_status'].apply(lambda x:'member_expire' if x == 'member_inactive' else x)\n",
    "user_df['user_membership_status'] = user_df['user_membership_status'].apply(lambda x:'member_ongoing' if x == 'associate_member' else x)\n",
    "user_df= user_df.join(pd.get_dummies(user_df['user_membership_status'],prefix='user_membership_status_'))\n",
    "del user_df['user_membership_status']"
   ]
  },
  {
   "cell_type": "code",
   "execution_count": 298,
   "metadata": {},
   "outputs": [],
   "source": [
    "user_df['user_fans_status'].fillna('missing',inplace=True)\n",
    "user_df= user_df.join(pd.get_dummies(user_df['user_fans_status'],prefix='user_fans_status_'))\n",
    "del user_df['user_fans_status']"
   ]
  },
  {
   "cell_type": "code",
   "execution_count": 299,
   "metadata": {},
   "outputs": [],
   "source": [
    "user_df['wx_assistant_friend'].fillna('missing',inplace=True)\n",
    "user_df['wx_assistant_friend'] = user_df['wx_assistant_friend'].apply(lambda x:'yes' if x == '是' else x)\n",
    "user_df= user_df.join(pd.get_dummies(user_df['wx_assistant_friend'],prefix='wx_assistant_friend_'))\n",
    "del user_df['wx_assistant_friend']"
   ]
  },
  {
   "cell_type": "markdown",
   "metadata": {
    "scrolled": true
   },
   "source": [
    "user_df['columbus_user_tags'].fillna('missing',inplace=True)\n",
    "columbus_user_tags_list =[]\n",
    "for row in user_df.itertuples():\n",
    "    tmp_list = getattr(row, 'columbus_user_tags').split(',')\n",
    "    columbus_user_tags_list = columbus_user_tags_list+tmp_list\n",
    "print(len(set(columbus_user_tags_list)))\n",
    "columbus_user_tags_set = set(columbus_user_tags_list)"
   ]
  },
  {
   "cell_type": "code",
   "execution_count": 300,
   "metadata": {
    "scrolled": true
   },
   "outputs": [],
   "source": [
    "#时间戳特征处理\n",
    "timestamp_feature_list = ['register_timestamp','first_visit_time','survey_finished_at',\n",
    " 'recent_buy_at','easy_customer_first_buy_time','easy_membership_first_time','guide_to_bh_at']\n",
    "for i in timestamp_feature_list:\n",
    "    user_null_df = user_df[user_df[i].isnull() == True]\n",
    "    user_df = user_df[user_df[i].isnull() == False]\n",
    "    user_df[i] = user_df[i].astype(int)\n",
    "    user_df[i+'_year'] = user_df[i].apply(timestamp_to_year)\n",
    "    user_df= user_df.join(pd.get_dummies(user_df[i+'_year'],prefix=i+'_year_'))\n",
    "    del user_df[i+'_year']\n",
    "    user_df[i+'_season'] = user_df[i].apply(timestamp_to_season)\n",
    "    user_df= user_df.join(pd.get_dummies(user_df[i+'_season'],prefix=i+'_season_'))\n",
    "    del user_df[i+'_season']\n",
    "    user_df[i+'_month'] = user_df[i].apply(timestamp_to_month)\n",
    "    user_df= user_df.join(pd.get_dummies(user_df[i+'_month'],prefix=i+'_month_'))\n",
    "    del user_df[i+'_month']\n",
    "    user_df[i+'_week'] = user_df[i].apply(timestamp_to_week)\n",
    "    user_df= user_df.join(pd.get_dummies(user_df[i+'_week'],prefix=i+'_week_'))\n",
    "    del user_df[i+'_week']\n",
    "    #user_df[i+'_day'] = user_df[i].apply(timestamp_to_day)\n",
    "    #user_df= user_df.join(pd.get_dummies(user_df[i+'_day'],prefix=i+'_day_'))\n",
    "    #del user_df[i+'_day']\n",
    "    user_df[i+'_hour'] = user_df[i].apply(timestamp_to_hour)\n",
    "    user_df= user_df.join(pd.get_dummies(user_df[i+'_hour'],prefix=i+'_hour_'))\n",
    "    del user_df[i+'_hour']\n",
    "    del user_df[i]\n",
    "    del user_null_df[i]\n",
    "    user_df = pd.concat([user_df,user_null_df],sort=False)\n",
    "user_df = user_df.sample(frac=1)\n"
   ]
  },
  {
   "cell_type": "code",
   "execution_count": 301,
   "metadata": {},
   "outputs": [],
   "source": [
    "#app版本特征\n",
    "user_df['app_version'] = user_df['app_version'].fillna('nan')\n",
    "user_df['app_version'] = user_df['app_version'].astype(str)\n",
    "user_df['app_version'] = user_df['app_version'].apply(lambda x:x[:3])\n",
    "user_df['app_version'] = user_df['app_version'].apply(app_version_func)\n",
    "user_df= user_df.join(pd.get_dummies(user_df['app_version'],prefix=i+'app_version_'))\n"
   ]
  },
  {
   "cell_type": "code",
   "execution_count": 308,
   "metadata": {},
   "outputs": [],
   "source": [
    "user_df = user_df.fillna(0)"
   ]
  },
  {
   "cell_type": "code",
   "execution_count": 302,
   "metadata": {},
   "outputs": [
    {
     "name": "stdout",
     "output_type": "stream",
     "text": [
      "252\n"
     ]
    }
   ],
   "source": [
    "print(len(user_df.columns.tolist()))"
   ]
  },
  {
   "cell_type": "code",
   "execution_count": 303,
   "metadata": {
    "collapsed": true
   },
   "outputs": [
    {
     "name": "stdout",
     "output_type": "stream",
     "text": [
      "['second_id', 'slug', 'birthday', 'gender', 'phone_model', 'app_version', 'province', 'city_level', 'target_weight', 'start_weight', 'latest_weight', 'bmi', 'budget_calory', 'view_goods_count', 'add_cart_count', 'commit_order_count', 'num_paid', 'eka_num_paid', 'total_cost', 'record_food_count', 'search_food_count', 'record_weight_count', 'finished_sports_count', 'habbit_checkin_count', 'post_create_count', 'active_day_count', 'activate_channel', 'special_condition', 'purpose_label', 'register_sns__missing', 'register_sns__qq_zone', 'register_sns__sina_weibo', 'register_sns__weixin', 'app_channel___360', 'app_channel__baidu', 'app_channel__boohee', 'app_channel__huawei', 'app_channel__lenovo', 'app_channel__meizu', 'app_channel__nearme', 'app_channel__other', 'app_channel__tencent', 'app_channel__undefind', 'app_channel__vivo', 'app_channel__wandoujia', 'app_channel__xiaomi', 'app_channel__zhihuan', 'register_type_weixin', 'register_type_sns', 'register_type_sina_weibo', 'register_type_qq_zone', 'register_type_cellphone', 'register_type_missing', 'first_traffic_source_type__direct', 'first_traffic_source_type__indirect', 'first_traffic_source_type__missing', 'register_source_app_key__boohee_weixin', 'register_source_app_key__food', 'register_source_app_key__ifood', 'register_source_app_key__missing', 'register_source_app_key__nice', 'register_source_app_key__one', 'easy_membership_first_platform__APP', 'easy_membership_first_platform__missing', 'easy_membership_first_platform__wechat', 'user_membership_status__member_expire', 'user_membership_status__member_ongoing', 'user_membership_status__missing', 'user_fans_status__fans', 'user_fans_status__missing', 'wx_assistant_friend__missing', 'wx_assistant_friend__yes', 'register_timestamp_year__2017', 'register_timestamp_year__2018', 'register_timestamp_year__2019', 'register_timestamp_season__season_autumn', 'register_timestamp_season__season_spring', 'register_timestamp_season__season_summer', 'register_timestamp_season__season_winter', 'register_timestamp_month__1', 'register_timestamp_month__2', 'register_timestamp_month__3', 'register_timestamp_month__4', 'register_timestamp_month__5', 'register_timestamp_month__6', 'register_timestamp_month__7', 'register_timestamp_month__8', 'register_timestamp_month__9', 'register_timestamp_month__10', 'register_timestamp_month__11', 'register_timestamp_month__12', 'register_timestamp_week__Friday', 'register_timestamp_week__Monday', 'register_timestamp_week__Saturday', 'register_timestamp_week__Sunday', 'register_timestamp_week__Thursday', 'register_timestamp_week__Tuesday', 'register_timestamp_week__Wednesday', 'register_timestamp_hour__hour_afternoon', 'register_timestamp_hour__hour_missing', 'register_timestamp_hour__hour_moring', 'register_timestamp_hour__hour_noon', 'first_visit_time_year__2019', 'first_visit_time_year__2020', 'first_visit_time_season__season_autumn', 'first_visit_time_season__season_spring', 'first_visit_time_season__season_summer', 'first_visit_time_season__season_winter', 'first_visit_time_month__1', 'first_visit_time_month__5', 'first_visit_time_month__6', 'first_visit_time_month__7', 'first_visit_time_month__8', 'first_visit_time_month__9', 'first_visit_time_month__10', 'first_visit_time_month__11', 'first_visit_time_month__12', 'first_visit_time_week__Friday', 'first_visit_time_week__Monday', 'first_visit_time_week__Saturday', 'first_visit_time_week__Sunday', 'first_visit_time_week__Thursday', 'first_visit_time_week__Tuesday', 'first_visit_time_week__Wednesday', 'first_visit_time_hour__hour_afternoon', 'first_visit_time_hour__hour_missing', 'first_visit_time_hour__hour_moring', 'first_visit_time_hour__hour_noon', 'survey_finished_at_year__2019', 'survey_finished_at_year__2020', 'survey_finished_at_season__season_autumn', 'survey_finished_at_season__season_spring', 'survey_finished_at_season__season_summer', 'survey_finished_at_season__season_winter', 'survey_finished_at_month__1', 'survey_finished_at_month__5', 'survey_finished_at_month__6', 'survey_finished_at_month__7', 'survey_finished_at_month__8', 'survey_finished_at_month__9', 'survey_finished_at_month__10', 'survey_finished_at_month__11', 'survey_finished_at_month__12', 'survey_finished_at_week__Friday', 'survey_finished_at_week__Monday', 'survey_finished_at_week__Saturday', 'survey_finished_at_week__Sunday', 'survey_finished_at_week__Thursday', 'survey_finished_at_week__Tuesday', 'survey_finished_at_week__Wednesday', 'survey_finished_at_hour__hour_missing', 'recent_buy_at_year__2017', 'recent_buy_at_year__2018', 'recent_buy_at_year__2019', 'recent_buy_at_year__2020', 'recent_buy_at_season__season_autumn', 'recent_buy_at_season__season_spring', 'recent_buy_at_season__season_summer', 'recent_buy_at_season__season_winter', 'recent_buy_at_month__1', 'recent_buy_at_month__2', 'recent_buy_at_month__3', 'recent_buy_at_month__4', 'recent_buy_at_month__5', 'recent_buy_at_month__6', 'recent_buy_at_month__7', 'recent_buy_at_month__8', 'recent_buy_at_month__9', 'recent_buy_at_month__10', 'recent_buy_at_month__11', 'recent_buy_at_month__12', 'recent_buy_at_week__Friday', 'recent_buy_at_week__Monday', 'recent_buy_at_week__Saturday', 'recent_buy_at_week__Sunday', 'recent_buy_at_week__Thursday', 'recent_buy_at_week__Tuesday', 'recent_buy_at_week__Wednesday', 'recent_buy_at_hour__hour_missing', 'easy_customer_first_buy_time_year__2017', 'easy_customer_first_buy_time_year__2018', 'easy_customer_first_buy_time_year__2019', 'easy_customer_first_buy_time_year__2020', 'easy_customer_first_buy_time_season__season_autumn', 'easy_customer_first_buy_time_season__season_spring', 'easy_customer_first_buy_time_season__season_summer', 'easy_customer_first_buy_time_season__season_winter', 'easy_customer_first_buy_time_month__1', 'easy_customer_first_buy_time_month__2', 'easy_customer_first_buy_time_month__3', 'easy_customer_first_buy_time_month__4', 'easy_customer_first_buy_time_month__5', 'easy_customer_first_buy_time_month__6', 'easy_customer_first_buy_time_month__7', 'easy_customer_first_buy_time_month__8', 'easy_customer_first_buy_time_month__9', 'easy_customer_first_buy_time_month__10', 'easy_customer_first_buy_time_month__11', 'easy_customer_first_buy_time_month__12', 'easy_customer_first_buy_time_week__Friday', 'easy_customer_first_buy_time_week__Monday', 'easy_customer_first_buy_time_week__Saturday', 'easy_customer_first_buy_time_week__Sunday', 'easy_customer_first_buy_time_week__Thursday', 'easy_customer_first_buy_time_week__Tuesday', 'easy_customer_first_buy_time_week__Wednesday', 'easy_customer_first_buy_time_hour__hour_afternoon', 'easy_customer_first_buy_time_hour__hour_missing', 'easy_customer_first_buy_time_hour__hour_moring', 'easy_customer_first_buy_time_hour__hour_noon', 'easy_membership_first_time_year__2019', 'easy_membership_first_time_year__2020', 'easy_membership_first_time_season__season_autumn', 'easy_membership_first_time_season__season_winter', 'easy_membership_first_time_month__1', 'easy_membership_first_time_month__9', 'easy_membership_first_time_month__10', 'easy_membership_first_time_month__11', 'easy_membership_first_time_month__12', 'easy_membership_first_time_week__Friday', 'easy_membership_first_time_week__Monday', 'easy_membership_first_time_week__Saturday', 'easy_membership_first_time_week__Sunday', 'easy_membership_first_time_week__Thursday', 'easy_membership_first_time_week__Tuesday', 'easy_membership_first_time_week__Wednesday', 'easy_membership_first_time_hour__hour_afternoon', 'easy_membership_first_time_hour__hour_missing', 'easy_membership_first_time_hour__hour_moring', 'easy_membership_first_time_hour__hour_noon', 'guide_to_bh_at_year__2019', 'guide_to_bh_at_season__season_autumn', 'guide_to_bh_at_season__season_winter', 'guide_to_bh_at_month__10', 'guide_to_bh_at_month__11', 'guide_to_bh_at_month__12', 'guide_to_bh_at_week__Friday', 'guide_to_bh_at_week__Monday', 'guide_to_bh_at_week__Saturday', 'guide_to_bh_at_week__Sunday', 'guide_to_bh_at_week__Thursday', 'guide_to_bh_at_week__Tuesday', 'guide_to_bh_at_week__Wednesday', 'guide_to_bh_at_hour__hour_afternoon', 'guide_to_bh_at_hour__hour_missing', 'guide_to_bh_at_hour__hour_moring', 'guide_to_bh_at_hour__hour_noon', 'guide_to_bh_atapp_version__extremely_low', 'guide_to_bh_atapp_version__high', 'guide_to_bh_atapp_version__low', 'guide_to_bh_atapp_version__medium', 'guide_to_bh_atapp_version__nan']\n"
     ]
    }
   ],
   "source": [
    "print(user_df.columns.tolist())\n",
    "    "
   ]
  },
  {
   "cell_type": "code",
   "execution_count": null,
   "metadata": {},
   "outputs": [],
   "source": []
  },
  {
   "cell_type": "code",
   "execution_count": null,
   "metadata": {},
   "outputs": [],
   "source": []
  },
  {
   "cell_type": "code",
   "execution_count": null,
   "metadata": {},
   "outputs": [],
   "source": []
  },
  {
   "cell_type": "code",
   "execution_count": null,
   "metadata": {},
   "outputs": [],
   "source": []
  },
  {
   "cell_type": "code",
   "execution_count": null,
   "metadata": {},
   "outputs": [],
   "source": []
  },
  {
   "cell_type": "code",
   "execution_count": null,
   "metadata": {},
   "outputs": [],
   "source": []
  },
  {
   "cell_type": "markdown",
   "metadata": {},
   "source": [
    "# 草稿本"
   ]
  },
  {
   "cell_type": "code",
   "execution_count": 43,
   "metadata": {
    "scrolled": true
   },
   "outputs": [
    {
     "data": {
      "text/plain": [
       "0         (2019, 03, 06 )\n",
       "1         (2019, 08, 03 )\n",
       "2         (2018, 11, 30 )\n",
       "3         (2017, 12, 09 )\n",
       "4         (2019, 09, 27 )\n",
       "5         (2019, 01, 12 )\n",
       "6         (2019, 06, 08 )\n",
       "7         (2018, 12, 23 )\n",
       "8         (2019, 06, 20 )\n",
       "9         (2018, 12, 01 )\n",
       "10        (2019, 10, 31 )\n",
       "11        (2016, 08, 22 )\n",
       "12        (2018, 12, 24 )\n",
       "13        (2018, 10, 18 )\n",
       "14        (2015, 07, 17 )\n",
       "15        (2014, 09, 24 )\n",
       "16        (2019, 05, 10 )\n",
       "17        (2019, 01, 08 )\n",
       "18        (2019, 04, 30 )\n",
       "19        (2019, 08, 03 )\n",
       "20        (2019, 07, 21 )\n",
       "21        (2016, 11, 17 )\n",
       "22        (2019, 04, 02 )\n",
       "23        (2018, 07, 26 )\n",
       "24        (2019, 11, 05 )\n",
       "25        (2019, 04, 07 )\n",
       "26        (2019, 11, 24 )\n",
       "27        (2017, 10, 28 )\n",
       "28        (2014, 09, 06 )\n",
       "29        (2018, 03, 03 )\n",
       "               ...       \n",
       "999825    (2019, 11, 11 )\n",
       "999826    (2019, 11, 16 )\n",
       "999827    (2015, 05, 24 )\n",
       "999831    (2019, 11, 02 )\n",
       "999840    (2019, 11, 26 )\n",
       "999855    (2019, 11, 11 )\n",
       "999864    (2019, 11, 02 )\n",
       "999867    (2019, 07, 08 )\n",
       "999869    (2019, 10, 06 )\n",
       "999877    (2018, 03, 29 )\n",
       "999879    (2019, 11, 24 )\n",
       "999880    (2019, 11, 05 )\n",
       "999885    (2019, 11, 05 )\n",
       "999890    (2019, 07, 21 )\n",
       "999898    (2019, 11, 07 )\n",
       "999904    (2019, 03, 17 )\n",
       "999915    (2019, 10, 24 )\n",
       "999925    (2016, 03, 25 )\n",
       "999935    (2019, 08, 03 )\n",
       "999944    (2019, 04, 10 )\n",
       "999955    (2014, 12, 05 )\n",
       "999957    (2019, 08, 24 )\n",
       "999958    (2018, 09, 17 )\n",
       "999959    (2019, 11, 19 )\n",
       "999961    (2017, 02, 10 )\n",
       "999964    (2018, 07, 24 )\n",
       "999982    (2019, 11, 09 )\n",
       "999984    (2019, 11, 30 )\n",
       "999994    (2019, 01, 11 )\n",
       "999998    (2019, 05, 29 )\n",
       "Name: register_timestamp, Length: 318578, dtype: object"
      ]
     },
     "execution_count": 43,
     "metadata": {},
     "output_type": "execute_result"
    }
   ],
   "source": [
    "test_df['register_timestamp'].apply(convert_str_datetime)"
   ]
  },
  {
   "cell_type": "code",
   "execution_count": 69,
   "metadata": {
    "scrolled": false
   },
   "outputs": [
    {
     "name": "stdout",
     "output_type": "stream",
     "text": [
      "['1', '9', '7', '4'] ['1', '2'] ['2', ' '] 4\n",
      "['1', '9', '7', '4'] ['1', '2'] ['7', ' '] 4\n",
      "['1', '9', '7', '4'] ['1', '2'] ['5', ' '] 4\n",
      "['1', '9', '7', '4'] ['1', '2'] ['7', ' '] 4\n",
      "['1', '9', '7', '4'] ['1', '2'] ['2', ' '] 4\n",
      "['1', '9', '7', '4'] ['1', '2'] ['1', ' '] 4\n",
      "['1', '9', '7', '4'] ['1', '2'] ['1', ' '] 4\n"
     ]
    },
    {
     "ename": "TypeError",
     "evalue": "cannot unpack non-iterable int object",
     "output_type": "error",
     "traceback": [
      "\u001b[0;31m---------------------------------------------------------------------------\u001b[0m",
      "\u001b[0;31mTypeError\u001b[0m                                 Traceback (most recent call last)",
      "\u001b[0;32m<ipython-input-69-21d8a6cc770f>\u001b[0m in \u001b[0;36m<module>\u001b[0;34m\u001b[0m\n\u001b[1;32m      3\u001b[0m     \u001b[0mprint\u001b[0m\u001b[0;34m(\u001b[0m\u001b[0myear\u001b[0m\u001b[0;34m,\u001b[0m\u001b[0mmonth\u001b[0m\u001b[0;34m,\u001b[0m\u001b[0mday\u001b[0m\u001b[0;34m,\u001b[0m\u001b[0mhour\u001b[0m\u001b[0;34m)\u001b[0m\u001b[0;34m\u001b[0m\u001b[0;34m\u001b[0m\u001b[0m\n\u001b[1;32m      4\u001b[0m \u001b[0muser_df\u001b[0m\u001b[0;34m[\u001b[0m\u001b[0;34m'survey_finished_at'\u001b[0m\u001b[0;34m]\u001b[0m \u001b[0;34m=\u001b[0m \u001b[0muser_df\u001b[0m\u001b[0;34m[\u001b[0m\u001b[0;34m'survey_finished_at'\u001b[0m\u001b[0;34m]\u001b[0m\u001b[0;34m.\u001b[0m\u001b[0mastype\u001b[0m\u001b[0;34m(\u001b[0m\u001b[0mstr\u001b[0m\u001b[0;34m)\u001b[0m\u001b[0;34m\u001b[0m\u001b[0;34m\u001b[0m\u001b[0m\n\u001b[0;32m----> 5\u001b[0;31m \u001b[0muser_df\u001b[0m\u001b[0;34m[\u001b[0m\u001b[0;34m'survey_finished_at'\u001b[0m\u001b[0;34m]\u001b[0m\u001b[0;34m.\u001b[0m\u001b[0mapply\u001b[0m\u001b[0;34m(\u001b[0m\u001b[0mfun_1\u001b[0m\u001b[0;34m)\u001b[0m\u001b[0;34m\u001b[0m\u001b[0;34m\u001b[0m\u001b[0m\n\u001b[0m\u001b[1;32m      6\u001b[0m \u001b[0;34m\u001b[0m\u001b[0m\n",
      "\u001b[0;32m~/anaconda3/lib/python3.7/site-packages/pandas/core/series.py\u001b[0m in \u001b[0;36mapply\u001b[0;34m(self, func, convert_dtype, args, **kwds)\u001b[0m\n\u001b[1;32m   3192\u001b[0m             \u001b[0;32melse\u001b[0m\u001b[0;34m:\u001b[0m\u001b[0;34m\u001b[0m\u001b[0;34m\u001b[0m\u001b[0m\n\u001b[1;32m   3193\u001b[0m                 \u001b[0mvalues\u001b[0m \u001b[0;34m=\u001b[0m \u001b[0mself\u001b[0m\u001b[0;34m.\u001b[0m\u001b[0mastype\u001b[0m\u001b[0;34m(\u001b[0m\u001b[0mobject\u001b[0m\u001b[0;34m)\u001b[0m\u001b[0;34m.\u001b[0m\u001b[0mvalues\u001b[0m\u001b[0;34m\u001b[0m\u001b[0;34m\u001b[0m\u001b[0m\n\u001b[0;32m-> 3194\u001b[0;31m                 \u001b[0mmapped\u001b[0m \u001b[0;34m=\u001b[0m \u001b[0mlib\u001b[0m\u001b[0;34m.\u001b[0m\u001b[0mmap_infer\u001b[0m\u001b[0;34m(\u001b[0m\u001b[0mvalues\u001b[0m\u001b[0;34m,\u001b[0m \u001b[0mf\u001b[0m\u001b[0;34m,\u001b[0m \u001b[0mconvert\u001b[0m\u001b[0;34m=\u001b[0m\u001b[0mconvert_dtype\u001b[0m\u001b[0;34m)\u001b[0m\u001b[0;34m\u001b[0m\u001b[0;34m\u001b[0m\u001b[0m\n\u001b[0m\u001b[1;32m   3195\u001b[0m \u001b[0;34m\u001b[0m\u001b[0m\n\u001b[1;32m   3196\u001b[0m         \u001b[0;32mif\u001b[0m \u001b[0mlen\u001b[0m\u001b[0;34m(\u001b[0m\u001b[0mmapped\u001b[0m\u001b[0;34m)\u001b[0m \u001b[0;32mand\u001b[0m \u001b[0misinstance\u001b[0m\u001b[0;34m(\u001b[0m\u001b[0mmapped\u001b[0m\u001b[0;34m[\u001b[0m\u001b[0;36m0\u001b[0m\u001b[0;34m]\u001b[0m\u001b[0;34m,\u001b[0m \u001b[0mSeries\u001b[0m\u001b[0;34m)\u001b[0m\u001b[0;34m:\u001b[0m\u001b[0;34m\u001b[0m\u001b[0;34m\u001b[0m\u001b[0m\n",
      "\u001b[0;32mpandas/_libs/src/inference.pyx\u001b[0m in \u001b[0;36mpandas._libs.lib.map_infer\u001b[0;34m()\u001b[0m\n",
      "\u001b[0;32m<ipython-input-69-21d8a6cc770f>\u001b[0m in \u001b[0;36mfun_1\u001b[0;34m(row)\u001b[0m\n\u001b[1;32m      1\u001b[0m \u001b[0;32mdef\u001b[0m \u001b[0mfun_1\u001b[0m\u001b[0;34m(\u001b[0m\u001b[0mrow\u001b[0m\u001b[0;34m)\u001b[0m\u001b[0;34m:\u001b[0m\u001b[0;34m\u001b[0m\u001b[0;34m\u001b[0m\u001b[0m\n\u001b[0;32m----> 2\u001b[0;31m     \u001b[0myear\u001b[0m\u001b[0;34m,\u001b[0m\u001b[0mmonth\u001b[0m\u001b[0;34m,\u001b[0m\u001b[0mday\u001b[0m\u001b[0;34m,\u001b[0m\u001b[0mhour\u001b[0m \u001b[0;34m=\u001b[0m \u001b[0mtime_process\u001b[0m\u001b[0;34m(\u001b[0m\u001b[0mrow\u001b[0m\u001b[0;34m)\u001b[0m\u001b[0;34m\u001b[0m\u001b[0;34m\u001b[0m\u001b[0m\n\u001b[0m\u001b[1;32m      3\u001b[0m     \u001b[0mprint\u001b[0m\u001b[0;34m(\u001b[0m\u001b[0myear\u001b[0m\u001b[0;34m,\u001b[0m\u001b[0mmonth\u001b[0m\u001b[0;34m,\u001b[0m\u001b[0mday\u001b[0m\u001b[0;34m,\u001b[0m\u001b[0mhour\u001b[0m\u001b[0;34m)\u001b[0m\u001b[0;34m\u001b[0m\u001b[0;34m\u001b[0m\u001b[0m\n\u001b[1;32m      4\u001b[0m \u001b[0muser_df\u001b[0m\u001b[0;34m[\u001b[0m\u001b[0;34m'survey_finished_at'\u001b[0m\u001b[0;34m]\u001b[0m \u001b[0;34m=\u001b[0m \u001b[0muser_df\u001b[0m\u001b[0;34m[\u001b[0m\u001b[0;34m'survey_finished_at'\u001b[0m\u001b[0;34m]\u001b[0m\u001b[0;34m.\u001b[0m\u001b[0mastype\u001b[0m\u001b[0;34m(\u001b[0m\u001b[0mstr\u001b[0m\u001b[0;34m)\u001b[0m\u001b[0;34m\u001b[0m\u001b[0;34m\u001b[0m\u001b[0m\n\u001b[1;32m      5\u001b[0m \u001b[0muser_df\u001b[0m\u001b[0;34m[\u001b[0m\u001b[0;34m'survey_finished_at'\u001b[0m\u001b[0;34m]\u001b[0m\u001b[0;34m.\u001b[0m\u001b[0mapply\u001b[0m\u001b[0;34m(\u001b[0m\u001b[0mfun_1\u001b[0m\u001b[0;34m)\u001b[0m\u001b[0;34m\u001b[0m\u001b[0;34m\u001b[0m\u001b[0m\n",
      "\u001b[0;31mTypeError\u001b[0m: cannot unpack non-iterable int object"
     ]
    }
   ],
   "source": [
    "def fun_1(row):\n",
    "    year,month,day,hour = time_process(row)\n",
    "    print(year,month,day,hour)\n",
    "user_df['survey_finished_at'] = user_df['survey_finished_at'].astype(str)\n",
    "user_df['survey_finished_at'].apply(fun_1)"
   ]
  },
  {
   "cell_type": "code",
   "execution_count": 30,
   "metadata": {},
   "outputs": [
    {
     "data": {
      "text/plain": [
       "'2020'"
      ]
     },
     "execution_count": 30,
     "metadata": {},
     "output_type": "execute_result"
    }
   ],
   "source": [
    "def time_process(data_time):\n",
    "    try:\n",
    "        time_tmp = time.localtime(int(data_time[:9]))\n",
    "    except:\n",
    "        return -1,-1,-1,-1\n",
    "    time_tmp = time.strftime(\"%Y-%m-%d %H:%M:%S\",time_tmp)\n",
    "    year = list(time_tmp)[:4]\n",
    "    month = list(time_tmp)[5:7]\n",
    "    day = list(time_tmp)[9:11]\n",
    "    hour = list(time_tmp)[3]\n",
    "    return year,month,day,hour "
   ]
  },
  {
   "cell_type": "code",
   "execution_count": 106,
   "metadata": {},
   "outputs": [],
   "source": [
    "\n",
    "    "
   ]
  },
  {
   "cell_type": "code",
   "execution_count": null,
   "metadata": {},
   "outputs": [],
   "source": []
  },
  {
   "cell_type": "code",
   "execution_count": null,
   "metadata": {},
   "outputs": [],
   "source": []
  },
  {
   "cell_type": "code",
   "execution_count": null,
   "metadata": {},
   "outputs": [],
   "source": []
  },
  {
   "cell_type": "code",
   "execution_count": null,
   "metadata": {},
   "outputs": [],
   "source": []
  },
  {
   "cell_type": "code",
   "execution_count": null,
   "metadata": {},
   "outputs": [],
   "source": []
  },
  {
   "cell_type": "code",
   "execution_count": null,
   "metadata": {},
   "outputs": [],
   "source": []
  },
  {
   "cell_type": "code",
   "execution_count": null,
   "metadata": {},
   "outputs": [],
   "source": []
  },
  {
   "cell_type": "code",
   "execution_count": null,
   "metadata": {},
   "outputs": [],
   "source": []
  },
  {
   "cell_type": "code",
   "execution_count": null,
   "metadata": {},
   "outputs": [],
   "source": []
  },
  {
   "cell_type": "code",
   "execution_count": null,
   "metadata": {},
   "outputs": [],
   "source": []
  },
  {
   "cell_type": "code",
   "execution_count": null,
   "metadata": {},
   "outputs": [],
   "source": []
  },
  {
   "cell_type": "code",
   "execution_count": null,
   "metadata": {},
   "outputs": [],
   "source": []
  },
  {
   "cell_type": "code",
   "execution_count": null,
   "metadata": {},
   "outputs": [],
   "source": []
  },
  {
   "cell_type": "code",
   "execution_count": null,
   "metadata": {},
   "outputs": [],
   "source": []
  },
  {
   "cell_type": "code",
   "execution_count": null,
   "metadata": {},
   "outputs": [],
   "source": []
  },
  {
   "cell_type": "code",
   "execution_count": null,
   "metadata": {},
   "outputs": [],
   "source": []
  },
  {
   "cell_type": "code",
   "execution_count": null,
   "metadata": {},
   "outputs": [],
   "source": []
  },
  {
   "cell_type": "code",
   "execution_count": null,
   "metadata": {},
   "outputs": [],
   "source": []
  },
  {
   "cell_type": "code",
   "execution_count": null,
   "metadata": {},
   "outputs": [],
   "source": []
  }
 ],
 "metadata": {
  "kernelspec": {
   "display_name": "Python 3",
   "language": "python",
   "name": "python3"
  },
  "language_info": {
   "codemirror_mode": {
    "name": "ipython",
    "version": 3
   },
   "file_extension": ".py",
   "mimetype": "text/x-python",
   "name": "python",
   "nbconvert_exporter": "python",
   "pygments_lexer": "ipython3",
   "version": "3.7.1"
  }
 },
 "nbformat": 4,
 "nbformat_minor": 2
}
