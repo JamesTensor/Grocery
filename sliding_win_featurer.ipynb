{
 "cells": [
  {
   "cell_type": "markdown",
   "metadata": {},
   "source": [
    "# 这个脚本是展示如何时间滑窗特征的构建"
   ]
  },
  {
   "cell_type": "code",
   "execution_count": null,
   "metadata": {},
   "outputs": [],
   "source": [
    "#假设我已经有用户购买商品的dataframe[['customer_id','date','order_total_num']]\n",
    "import numpy as np\n",
    "import pandas as pd\n",
    "import reduce_mem_usage"
   ]
  },
  {
   "cell_type": "code",
   "execution_count": null,
   "metadata": {},
   "outputs": [],
   "source": [
    "df_goods = df[['customer_id','date','order_total_num']]\n",
    "df_goods = df_goods.groupby(['date','customer_id']).agg({'order_total_num': ['sum']})\n",
    "df_goods.columns = ['day_total_num']\n",
    "df_goods.reset_index(inplace=True)\n",
    "df_goods = df_goods.set_index(\n",
    "    [\"customer_id\", \"date\"])[[\"day_total_num\"]].unstack(level=-1).fillna(0)\n",
    "df_goods.columns = df_goods.columns.get_level_values(1)"
   ]
  },
  {
   "cell_type": "code",
   "execution_count": null,
   "metadata": {},
   "outputs": [],
   "source": [
    "# 这函数是在数据(df)中获得时间点(dt)之前多少天（minus）的周期(periods)的dataframe\n",
    "def get_timespan(df, dt, minus, periods, freq='D'):\n",
    "    return df[pd.date_range(dt - timedelta(days=minus), periods=periods, freq=freq)]\n",
    "#函数最后在返回值处做了内存优化，用时间代价尽可能避免内存溢出"
   ]
  },
  {
   "cell_type": "code",
   "execution_count": null,
   "metadata": {},
   "outputs": [],
   "source": [
    "def prepare_dataset(df_payment, t2020, is_train=True):\n",
    "    #生成的结果放在x字典里，后面再转df\n",
    "    X = {}\n",
    "    # 整合用户id\n",
    "    tmp = df_payment.reset_index()\n",
    "    X['customer_id'] = tmp['customer_id']\n",
    "    # 滑窗消费特征举例，取前[7,14,30,49,60,91,120]天的滑动窗口\n",
    "    for i in [7,14,30,49,60,91,120]:\n",
    "        #取前7天的数据\n",
    "        tmp_1 = get_timespan(df_payment, t2020, i, i)\n",
    "        #对各列数据各种统计\n",
    "        X['diff_%s_mean' % i] = tmp_1.diff(axis=1).mean(axis=1).values\n",
    "        X['mean_%s_decay' % i] = (tmp_1 * np.power(0.9, np.arange(i)[::-1])).sum(axis=1).values\n",
    "        X['mean_%s' % i] = tmp_1.mean(axis=1).values\n",
    "        X['median_%s' % i] = tmp_1.median(axis=1).values\n",
    "        X['min_%s' % i] = tmp_1.min(axis=1).values\n",
    "        X['max_%s' % i] = tmp_1.max(axis=1).values\n",
    "        X['std_%s' % i] = tmp_1.std(axis=1).values\n",
    "        X['sum_%s' % i] = tmp_1.sum(axis=1).values\n",
    "        \n",
    "        tmp_2 = get_timespan(df_payment, t2020, i, i)\n",
    "        X['has_sales_days_in_last_%s' % i] = (tmp_2 != 0).sum(axis=1).values\n",
    "        X['last_has_sales_day_in_last_%s' % i] = i - ((tmp_2 != 0) * np.arange(i)).max(axis=1).values\n",
    "        X['first_has_sales_day_in_last_%s' % i] = ((tmp_2 != 0) * np.arange(i, 0, -1)).max(axis=1).values\n",
    "\n",
    "    # 对此处进行微调，主要考虑近期因素\n",
    "    for i in range(1, 4):\n",
    "        X['day_%s_' % i] = get_timespan(df_payment, t2020, i*30, 30).sum(axis=1).values\n",
    "\n",
    "    for i in range(7):\n",
    "        X['mean_4_dow{}_2020'.format(i)] = get_timespan(df_payment, t2020, 56-i*2, 4, freq='14D').mean(axis=1).values\n",
    "        X['mean_20_dow{}_2020'.format(i)] = get_timespan(df, t2020, 140-i, 20, freq='7D').mean(axis=1).values\n",
    "        X['mean_20_dow{}_2020'.format(i)] = get_timespan(df_payment, t2020, 140-i*2, 10, freq='14D').mean(axis=1).values\n",
    "    \n",
    "    X = pd.DataFrame(X)\n",
    "    #可以用同一个仓库的另外一个减少内存脚本\n",
    "    reduce_mem_usage(X)\n",
    "    \n",
    "    if is_train:\n",
    "        # 这样转换之后，打标签直接用numpy切片就可以了\n",
    "        # 当然这里前提是确认付款总额没有负数的问题\n",
    "        y = df_goods[pd.date_range(t2020, periods=30)].max(axis=1).values\n",
    "        y[y > 0] = 1\n",
    "        return X, y\n",
    "    return X"
   ]
  },
  {
   "cell_type": "code",
   "execution_count": null,
   "metadata": {},
   "outputs": [],
   "source": [
    "# 将用户下单金额按天进行汇总\n",
    "def make_slides(train,df_part,begin,end,column):\n",
    "    df = train[train.order_status <= 6][train.order_pay_time > '2020-02-01']\n",
    "    df = train[train.order_pay_time > begin][train.order_pay_time < end]\n",
    "    df = pd.merge(df,df_part,how='inner')\n",
    "    df['date'] = pd.DatetimeIndex(df['order_pay_time']).date\n",
    "    df = df[['customer_id', 'date', column]]\n",
    "    df = df.groupby(['date', 'customer_id']).agg({column: ['sum']})\n",
    "    df.columns = ['day_' + column]\n",
    "    df.reset_index(inplace=True)\n",
    "    df = df.set_index([\"customer_id\", \"date\"])[['day_' + column]].unstack(level=-1).fillna(0)\n",
    "    df.columns = df.columns.get_level_values(1)\n",
    "    return df"
   ]
  },
  {
   "cell_type": "code",
   "execution_count": null,
   "metadata": {},
   "outputs": [],
   "source": [
    "df_0606 = train[train.order_pay_time > '2020-01-01'][train.order_pay_time <= '2020-06-06'][['customer_id']]\n",
    "# 删除重复行\n",
    "df_0606 = df_0606.drop_duplicates(['customer_id'])\n",
    "df_part1_partment = make_slides(train,df_0606,'2020-01-01','2020-07-06','order_total_payment')\n",
    "df_part1_goods = make_slides(train,df_0606,'2020-01-01','2020-07-06','order_total_num')\n",
    "X_part1, y_part1 = prepare_dataset(df_part1_partment, df_part1_goods, date(2020, 6, 6))"
   ]
  },
  {
   "cell_type": "code",
   "execution_count": null,
   "metadata": {},
   "outputs": [],
   "source": [
    "X_part1.to_pickle('xxx.pkl')\n",
    "np.save(\"xxx.npy\", y_part1)"
   ]
  },
  {
   "cell_type": "markdown",
   "metadata": {},
   "source": [
    "# 纯时间序列滑窗和其他特征交叉效果更好，如用户X商品，用户X会员，用户X省份等。"
   ]
  },
  {
   "cell_type": "code",
   "execution_count": null,
   "metadata": {},
   "outputs": [],
   "source": []
  },
  {
   "cell_type": "code",
   "execution_count": null,
   "metadata": {},
   "outputs": [],
   "source": []
  },
  {
   "cell_type": "code",
   "execution_count": null,
   "metadata": {},
   "outputs": [],
   "source": []
  },
  {
   "cell_type": "code",
   "execution_count": null,
   "metadata": {},
   "outputs": [],
   "source": []
  }
 ],
 "metadata": {
  "kernelspec": {
   "display_name": "Python 3",
   "language": "python",
   "name": "python3"
  },
  "language_info": {
   "codemirror_mode": {
    "name": "ipython",
    "version": 3
   },
   "file_extension": ".py",
   "mimetype": "text/x-python",
   "name": "python",
   "nbconvert_exporter": "python",
   "pygments_lexer": "ipython3",
   "version": "3.7.1"
  },
  "toc": {
   "base_numbering": 1,
   "nav_menu": {},
   "number_sections": true,
   "sideBar": true,
   "skip_h1_title": false,
   "title_cell": "Table of Contents",
   "title_sidebar": "Contents",
   "toc_cell": false,
   "toc_position": {},
   "toc_section_display": true,
   "toc_window_display": false
  },
  "varInspector": {
   "cols": {
    "lenName": 16,
    "lenType": 16,
    "lenVar": 40
   },
   "kernels_config": {
    "python": {
     "delete_cmd_postfix": "",
     "delete_cmd_prefix": "del ",
     "library": "var_list.py",
     "varRefreshCmd": "print(var_dic_list())"
    },
    "r": {
     "delete_cmd_postfix": ") ",
     "delete_cmd_prefix": "rm(",
     "library": "var_list.r",
     "varRefreshCmd": "cat(var_dic_list()) "
    }
   },
   "types_to_exclude": [
    "module",
    "function",
    "builtin_function_or_method",
    "instance",
    "_Feature"
   ],
   "window_display": false
  }
 },
 "nbformat": 4,
 "nbformat_minor": 2
}
