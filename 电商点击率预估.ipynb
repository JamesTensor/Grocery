{
 "cells": [
  {
   "cell_type": "code",
   "execution_count": 1,
   "metadata": {},
   "outputs": [],
   "source": [
    "import pandas as pd\n",
    "import numpy as np\n",
    "import scipy as sp\n",
    "\n"
   ]
  },
  {
   "cell_type": "code",
   "execution_count": 4,
   "metadata": {},
   "outputs": [],
   "source": [
    "def read_csv_file(f,logging=False):\n",
    "    data = pd.read_csv(f)\n",
    "    print(data.head(5))\n",
    "    print(f,\"包含一下列\")\n",
    "    print(data.columns.values)\n",
    "    return data\n",
    "    "
   ]
  },
  {
   "cell_type": "code",
   "execution_count": 7,
   "metadata": {},
   "outputs": [],
   "source": [
    "def categories_process_first_class(cate):\n",
    "    cate = str(cate)\n",
    "    if len(cate) == 1:\n",
    "        if int(cate) == 0:\n",
    "            return 0\n",
    "    else:\n",
    "        return int(cate[0])"
   ]
  },
  {
   "cell_type": "code",
   "execution_count": 8,
   "metadata": {},
   "outputs": [],
   "source": [
    "def categories_process_second_class(cate):\n",
    "    cate = str(cate)\n",
    "    if len(cate) < 3:\n",
    "        return 0\n",
    "    else:\n",
    "        return int(cate[1:])"
   ]
  },
  {
   "cell_type": "code",
   "execution_count": 10,
   "metadata": {},
   "outputs": [],
   "source": [
    "def age_process(age):\n",
    "    age = int(age)\n",
    "    if age==0:\n",
    "        return 0\n",
    "    elif age<15:\n",
    "        return 1\n",
    "    elif age<25:\n",
    "        return 2\n",
    "    elif age<40:\n",
    "        return 3\n",
    "    elif age<60:\n",
    "        return 4\n",
    "    else:\n",
    "        return 5"
   ]
  },
  {
   "cell_type": "code",
   "execution_count": 11,
   "metadata": {},
   "outputs": [],
   "source": [
    "def process_province(hometown):\n",
    "    hometown = str(hometown)\n",
    "    province = int(hometown[0:2])\n",
    "    return province"
   ]
  },
  {
   "cell_type": "code",
   "execution_count": 12,
   "metadata": {},
   "outputs": [],
   "source": [
    "def process_city(hometown):\n",
    "    hometown = str(hometown)\n",
    "    if hometown > 1:\n",
    "        hometown = int(hometown[2:])\n",
    "    else:\n",
    "        hometown = 0\n",
    "    \n",
    "    return hometown"
   ]
  },
  {
   "cell_type": "code",
   "execution_count": null,
   "metadata": {},
   "outputs": [],
   "source": [
    "def get_time_day(t):\n",
    "    t = str(t)\n",
    "    t=int(t[0:2])\n",
    "    return t\n",
    "\n",
    "#一天切成4段\n",
    "def get_time_hour(t):\n",
    "    t = str(t)\n",
    "    t=int(t[2:4])\n",
    "    if t<6:\n",
    "        return 0\n",
    "    elif t<12:\n",
    "        return 1\n",
    "    elif t<18:\n",
    "        return 2\n",
    "    else:\n",
    "        return 3"
   ]
  },
  {
   "cell_type": "code",
   "execution_count": 13,
   "metadata": {},
   "outputs": [],
   "source": [
    "def logloss(act, pred):\n",
    "  epsilon = 1e-15\n",
    "  pred = sp.maximum(epsilon, pred)\n",
    "  pred = sp.minimum(1-epsilon, pred)\n",
    "  ll = sum(act*sp.log(pred) + sp.subtract(1,act)*sp.log(sp.subtract(1,pred)))\n",
    "  ll = ll * -1.0/len(act)\n",
    "  return ll"
   ]
  },
  {
   "cell_type": "code",
   "execution_count": 14,
   "metadata": {},
   "outputs": [],
   "source": [
    "from sklearn.preprocessing import Binarizer\n",
    "from sklearn.preprocessing import MinMaxScaler"
   ]
  },
  {
   "cell_type": "code",
   "execution_count": null,
   "metadata": {},
   "outputs": [],
   "source": [
    "train_data = read_csv_file('./data/train.csv',logging=True)\n"
   ]
  },
  {
   "cell_type": "code",
   "execution_count": null,
   "metadata": {},
   "outputs": [],
   "source": []
  }
 ],
 "metadata": {
  "kernelspec": {
   "display_name": "Python 3",
   "language": "python",
   "name": "python3"
  },
  "language_info": {
   "codemirror_mode": {
    "name": "ipython",
    "version": 3
   },
   "file_extension": ".py",
   "mimetype": "text/x-python",
   "name": "python",
   "nbconvert_exporter": "python",
   "pygments_lexer": "ipython3",
   "version": "3.7.1"
  }
 },
 "nbformat": 4,
 "nbformat_minor": 2
}
