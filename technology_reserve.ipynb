{
 "cells": [
  {
   "cell_type": "code",
   "execution_count": 19,
   "metadata": {},
   "outputs": [],
   "source": [
    "#matplotlib导包\n",
    "%matplotlib inline \n",
    "import os\n",
    "import json\n",
    "from joblib import Parallel, delayed\n",
    "import numpy as np\n",
    "import pandas as pd\n",
    "import matplotlib as mpl\n",
    "import matplotlib.pyplot as plt\n",
    "plt.rcParams['font.sans-serif']=['SimHei'] # 用来正常显示中文标签\n",
    "plt.rcParams['axes.unicode_minus']=False # 用来正常显示负号\n",
    "from sklearn.preprocessing import StandardScaler\n",
    "from sklearn.cluster import KMeans\n",
    "mpl.rcParams['font.sans-serif'] = ['simhei'] #指定默认字体  \n",
    "#开启matplotlib图形显示\n",
    "mpl.rcParams['axes.unicode_minus'] = False # 解决保存图像是负号'-'显示为方块的问题\n",
    "from datetime import datetime\n"
   ]
  },
  {
   "cell_type": "code",
   "execution_count": 41,
   "metadata": {},
   "outputs": [
    {
     "name": "stdout",
     "output_type": "stream",
     "text": [
      "2019-09-09\n"
     ]
    },
    {
     "ename": "AttributeError",
     "evalue": "'int' object has no attribute 'weekday'",
     "output_type": "error",
     "traceback": [
      "\u001b[0;31m---------------------------------------------------------------------------\u001b[0m",
      "\u001b[0;31mAttributeError\u001b[0m                            Traceback (most recent call last)",
      "\u001b[0;32m<ipython-input-41-22e3a1d2ae09>\u001b[0m in \u001b[0;36m<module>\u001b[0;34m\u001b[0m\n\u001b[1;32m      5\u001b[0m \u001b[0mdt\u001b[0m \u001b[0;34m=\u001b[0m \u001b[0mtime\u001b[0m\u001b[0;34m.\u001b[0m\u001b[0mstrftime\u001b[0m\u001b[0;34m(\u001b[0m\u001b[0;34m\"%Y-%m-%d %H:%M:%S\"\u001b[0m\u001b[0;34m,\u001b[0m\u001b[0mtime_local\u001b[0m\u001b[0;34m)\u001b[0m\u001b[0;34m\u001b[0m\u001b[0;34m\u001b[0m\u001b[0m\n\u001b[1;32m      6\u001b[0m \u001b[0mprint\u001b[0m\u001b[0;34m(\u001b[0m\u001b[0mdt\u001b[0m\u001b[0;34m[\u001b[0m\u001b[0;34m:\u001b[0m\u001b[0;36m10\u001b[0m\u001b[0;34m]\u001b[0m\u001b[0;34m)\u001b[0m\u001b[0;34m\u001b[0m\u001b[0;34m\u001b[0m\u001b[0m\n\u001b[0;32m----> 7\u001b[0;31m \u001b[0ma\u001b[0m\u001b[0;34m.\u001b[0m\u001b[0mweekday\u001b[0m\u001b[0;34m(\u001b[0m\u001b[0;34m)\u001b[0m\u001b[0;34m\u001b[0m\u001b[0;34m\u001b[0m\u001b[0m\n\u001b[0m",
      "\u001b[0;31mAttributeError\u001b[0m: 'int' object has no attribute 'weekday'"
     ]
    }
   ],
   "source": [
    "#时间戳转化日期\n",
    "import time\n",
    "a =1568003089000\t\n",
    "time_local = time.localtime(int(a/1000))\n",
    "dt = time.strftime(\"%Y-%m-%d %H:%M:%S\",time_local)\n",
    "print(dt[:10])\n",
    "a.weekday()"
   ]
  },
  {
   "cell_type": "code",
   "execution_count": 19,
   "metadata": {},
   "outputs": [
    {
     "name": "stdout",
     "output_type": "stream",
     "text": [
      "2020-01-12 15:36:25\n"
     ]
    }
   ],
   "source": [
    "#### 获取当前时间,也就是时间戳\n",
    "time_now = int(time.time())\n",
    "#转换成localtime\n",
    "time_local = time.localtime(time_now)\n",
    "#转换成新的时间格式(2016-05-09 18:59:20)\n",
    "dt_1 = time.strftime(\"%Y-%m-%d %H:%M:%S\",time_local)\n",
    "\n",
    "print(dt_1)"
   ]
  },
  {
   "cell_type": "code",
   "execution_count": null,
   "metadata": {},
   "outputs": [],
   "source": [
    "#转更小的储存方式\n",
    "df = np.array(df,dtype='int32')"
   ]
  },
  {
   "cell_type": "code",
   "execution_count": null,
   "metadata": {},
   "outputs": [],
   "source": [
    "#拿出缺失行看看长什么样子\n",
    "df[df.isnull().values==True]\n",
    "#在原数据上去掉缺失值\n",
    "df.dropna(axis=0,how='any',inplace=True)"
   ]
  },
  {
   "cell_type": "code",
   "execution_count": null,
   "metadata": {},
   "outputs": [],
   "source": [
    "#按条件赋值\n",
    "user_goods_df.loc[(19>user_goods_df[\"weight_change_target\"]) & (user_goods_df[\"weight_change_target\"]>=15),\"purpose_label\"] = 6"
   ]
  },
  {
   "cell_type": "code",
   "execution_count": 1,
   "metadata": {},
   "outputs": [
    {
     "ename": "NameError",
     "evalue": "name 'user_df' is not defined",
     "output_type": "error",
     "traceback": [
      "\u001b[0;31m---------------------------------------------------------------------------\u001b[0m",
      "\u001b[0;31mNameError\u001b[0m                                 Traceback (most recent call last)",
      "\u001b[0;32m<ipython-input-1-13b892afa19e>\u001b[0m in \u001b[0;36m<module>\u001b[0;34m\u001b[0m\n\u001b[1;32m      1\u001b[0m \u001b[0;31m#取空值行\u001b[0m\u001b[0;34m\u001b[0m\u001b[0;34m\u001b[0m\u001b[0;34m\u001b[0m\u001b[0m\n\u001b[0;32m----> 2\u001b[0;31m \u001b[0muser_df\u001b[0m\u001b[0;34m[\u001b[0m\u001b[0muser_df\u001b[0m\u001b[0;34m[\u001b[0m\u001b[0;34m'purpose_label'\u001b[0m\u001b[0;34m]\u001b[0m\u001b[0;34m.\u001b[0m\u001b[0misnull\u001b[0m\u001b[0;34m(\u001b[0m\u001b[0;34m)\u001b[0m\u001b[0;34m.\u001b[0m\u001b[0mvalues\u001b[0m\u001b[0;34m==\u001b[0m\u001b[0;32mTrue\u001b[0m\u001b[0;34m]\u001b[0m\u001b[0;34m\u001b[0m\u001b[0;34m\u001b[0m\u001b[0m\n\u001b[0m",
      "\u001b[0;31mNameError\u001b[0m: name 'user_df' is not defined"
     ]
    }
   ],
   "source": [
    "#取空值行\n",
    "user_df[user_df['purpose_label'].isnull().values==True]"
   ]
  },
  {
   "cell_type": "code",
   "execution_count": null,
   "metadata": {},
   "outputs": [],
   "source": [
    "#转float32节约内存\n",
    "df = np.array(df,dtype='float32')"
   ]
  },
  {
   "cell_type": "code",
   "execution_count": null,
   "metadata": {},
   "outputs": [],
   "source": [
    "import numpy as np\n",
    "import pandas as pd\n",
    "from xgboost import XGBClassifier\n",
    "from sklearn.cross_validation import KFold\n",
    "from sklearn.grid_search import GridSearchCV\n",
    "from sklearn.metrics import accuracy_score\n",
    "\n",
    "train = pd.read_csv(\"datasets/titanic_train.csv\")\n",
    "test = pd.read_csv(\"datasets/titanic_test.csv\")\n",
    "\n",
    "#数据清洗\n",
    "def clean(titanic):\n",
    "    titanic[\"age\"] = titanic[\"Age\"].fillna(titanic[\"Age\"].median())\n",
    "    titanic[\"child\"] = titanic[\"Age\"].apply(lambda x:1 if x<15 else 0)#是否是小孩\n",
    "    \n",
    "    titanic[\"sex\"] = titanic[\"Sex\"].apply(lambda x:1 if x==\"male\" else 0)\n",
    "    titanic[\"Embarked\"] = titanic[\"Embarked\"].fillna(\"S\")\n",
    "    def embark(Embark):\n",
    "        if Embark == \"S\":\n",
    "            return 1\n",
    "        elif Embark == \"C\":\n",
    "            return 2\n",
    "        else:\n",
    "            return 3\n",
    "    titanic[\"embarked\"] = titanic[\"Embarked\"].apply(embark)\n",
    "    titanic[\"family\"] = titanic[\"SibSp\"]+titanic[\"Parch\"]+1\n",
    "    titanic[\"cabin\"] = titanic[\"Cabin\"].apply(lambda x: 0 if x==\"N\" else 1)\n",
    "    def getname(Name):\n",
    "        if \"Mrs\" in str(Name):\n",
    "            return 2\n",
    "        elif \"Mr\" in str(Name):\n",
    "            return 1\n",
    "        else:\n",
    "            return 0\n",
    "    titanic[\"name\"] = titanic[\"Name\"].apply(getname)\n",
    "    titanic[\"fare\"] = titanic[\"Fare\"].fillna(titanic[\"Fare\"].median())\n",
    "    return titanic\n",
    "train_data = clean(train)\n",
    "test_data = clean(test)\n",
    "\n",
    "features = [\"Pclass\",\"sex\",\"child\",\"family\",\"fare\",\"embarked\",\"cabin\"]\n",
    "clf = XGBClassifier(learning_rate=0.1,max_depth=2,silent=True,objective='binary:logistic')\n",
    "param_test = {\n",
    "    'n_estimators': [30,32,34,36,38,40,42,44,46,48,50],\n",
    "    'max_depth': [2,3,4,5,6,7]\n",
    "}#大杀器XGBoost\n",
    "grid_search = GridSearchCV(estimator=clf , param_grid=param_test , scoring='accuracy',cv=5)\n",
    "grid_search.fit(train[features],train[\"Survived\"])\n",
    "grid_search.grid_scores_,grid_search.best_params_,grid_search.best_score_\n",
    "predict_data = grid_search.predict(test[features])"
   ]
  },
  {
   "cell_type": "code",
   "execution_count": null,
   "metadata": {},
   "outputs": [],
   "source": [
    "# 对测试集进行预测\n",
    "ans = model.predict(X_test)\n",
    "\n",
    "# 计算准确率\n",
    "cnt1 = 0\n",
    "cnt2 = 0\n",
    "for i in range(len(y_test)):\n",
    "    if ans[i] == y_test[i]:\n",
    "        cnt1 += 1\n",
    "    else:\n",
    "        cnt2 += 1\n",
    "\n",
    "print(\"Accuracy: %.2f %% \" % (100 * cnt1 / (cnt1 + cnt2)))\n"
   ]
  },
  {
   "cell_type": "code",
   "execution_count": null,
   "metadata": {},
   "outputs": [],
   "source": [
    "#删除没有索引的第一行\n",
    "user_df=user_df[~user_df['user_id'].isin(['user_id'])]"
   ]
  },
  {
   "cell_type": "code",
   "execution_count": null,
   "metadata": {},
   "outputs": [],
   "source": [
    "#将Title列（文字）中的年份用正则匹配的方式去掉，cnn\n",
    "pattern = re.compile(r'^(.*)\\((\\d+)\\)$')\n",
    "title_map = {val:pattern.match(val).group(1) for ii,val in enumerate(set(movies['Title']))}\n",
    "movies['Title'] = movies['Title'].map(title_map)"
   ]
  },
  {
   "cell_type": "code",
   "execution_count": 3,
   "metadata": {},
   "outputs": [
    {
     "data": {
      "text/html": [
       "<div>\n",
       "<style scoped>\n",
       "    .dataframe tbody tr th:only-of-type {\n",
       "        vertical-align: middle;\n",
       "    }\n",
       "\n",
       "    .dataframe tbody tr th {\n",
       "        vertical-align: top;\n",
       "    }\n",
       "\n",
       "    .dataframe thead th {\n",
       "        text-align: right;\n",
       "    }\n",
       "</style>\n",
       "<table border=\"1\" class=\"dataframe\">\n",
       "  <thead>\n",
       "    <tr style=\"text-align: right;\">\n",
       "      <th></th>\n",
       "      <th>color</th>\n",
       "      <th>class</th>\n",
       "    </tr>\n",
       "  </thead>\n",
       "  <tbody>\n",
       "    <tr>\n",
       "      <th>0</th>\n",
       "      <td>green</td>\n",
       "      <td>A</td>\n",
       "    </tr>\n",
       "    <tr>\n",
       "      <th>1</th>\n",
       "      <td>red</td>\n",
       "      <td>B</td>\n",
       "    </tr>\n",
       "    <tr>\n",
       "      <th>2</th>\n",
       "      <td>blue</td>\n",
       "      <td>A</td>\n",
       "    </tr>\n",
       "  </tbody>\n",
       "</table>\n",
       "</div>"
      ],
      "text/plain": [
       "   color class\n",
       "0  green     A\n",
       "1    red     B\n",
       "2   blue     A"
      ]
     },
     "execution_count": 3,
     "metadata": {},
     "output_type": "execute_result"
    }
   ],
   "source": [
    "import pandas as pd\n",
    "df = pd.DataFrame([  \n",
    "            ['green' , 'A'],   \n",
    "            ['red'   , 'B'],   \n",
    "            ['blue'  , 'A']])  \n",
    "df.columns = ['color',  'class'] \n",
    "df"
   ]
  },
  {
   "cell_type": "code",
   "execution_count": 4,
   "metadata": {},
   "outputs": [
    {
     "name": "stderr",
     "output_type": "stream",
     "text": [
      "/Users/wjj/anaconda3/lib/python3.7/site-packages/ipykernel_launcher.py:1: SettingWithCopyWarning: \n",
      "A value is trying to be set on a copy of a slice from a DataFrame.\n",
      "Try using .loc[row_indexer,col_indexer] = value instead\n",
      "\n",
      "See the caveats in the documentation: http://pandas.pydata.org/pandas-docs/stable/indexing.html#indexing-view-versus-copy\n",
      "  \"\"\"Entry point for launching an IPython kernel.\n"
     ]
    }
   ],
   "source": [
    "df.loc[df['color']=='red']['color']= 1"
   ]
  },
  {
   "cell_type": "code",
   "execution_count": 5,
   "metadata": {},
   "outputs": [
    {
     "data": {
      "text/html": [
       "<div>\n",
       "<style scoped>\n",
       "    .dataframe tbody tr th:only-of-type {\n",
       "        vertical-align: middle;\n",
       "    }\n",
       "\n",
       "    .dataframe tbody tr th {\n",
       "        vertical-align: top;\n",
       "    }\n",
       "\n",
       "    .dataframe thead th {\n",
       "        text-align: right;\n",
       "    }\n",
       "</style>\n",
       "<table border=\"1\" class=\"dataframe\">\n",
       "  <thead>\n",
       "    <tr style=\"text-align: right;\">\n",
       "      <th></th>\n",
       "      <th>1</th>\n",
       "      <th>class</th>\n",
       "    </tr>\n",
       "  </thead>\n",
       "  <tbody>\n",
       "    <tr>\n",
       "      <th>0</th>\n",
       "      <td>green</td>\n",
       "      <td>A</td>\n",
       "    </tr>\n",
       "    <tr>\n",
       "      <th>1</th>\n",
       "      <td>red</td>\n",
       "      <td>B</td>\n",
       "    </tr>\n",
       "    <tr>\n",
       "      <th>2</th>\n",
       "      <td>blue</td>\n",
       "      <td>A</td>\n",
       "    </tr>\n",
       "  </tbody>\n",
       "</table>\n",
       "</div>"
      ],
      "text/plain": [
       "       1 class\n",
       "0  green     A\n",
       "1    red     B\n",
       "2   blue     A"
      ]
     },
     "execution_count": 5,
     "metadata": {},
     "output_type": "execute_result"
    }
   ],
   "source": [
    "df.rename(columns={'color':1})"
   ]
  },
  {
   "cell_type": "code",
   "execution_count": 6,
   "metadata": {},
   "outputs": [
    {
     "data": {
      "text/html": [
       "<div>\n",
       "<style scoped>\n",
       "    .dataframe tbody tr th:only-of-type {\n",
       "        vertical-align: middle;\n",
       "    }\n",
       "\n",
       "    .dataframe tbody tr th {\n",
       "        vertical-align: top;\n",
       "    }\n",
       "\n",
       "    .dataframe thead th {\n",
       "        text-align: right;\n",
       "    }\n",
       "</style>\n",
       "<table border=\"1\" class=\"dataframe\">\n",
       "  <thead>\n",
       "    <tr style=\"text-align: right;\">\n",
       "      <th></th>\n",
       "      <th>color</th>\n",
       "      <th>class</th>\n",
       "    </tr>\n",
       "  </thead>\n",
       "  <tbody>\n",
       "    <tr>\n",
       "      <th>0</th>\n",
       "      <td>green</td>\n",
       "      <td>A</td>\n",
       "    </tr>\n",
       "    <tr>\n",
       "      <th>1</th>\n",
       "      <td>red</td>\n",
       "      <td>B</td>\n",
       "    </tr>\n",
       "    <tr>\n",
       "      <th>2</th>\n",
       "      <td>blue</td>\n",
       "      <td>A</td>\n",
       "    </tr>\n",
       "  </tbody>\n",
       "</table>\n",
       "</div>"
      ],
      "text/plain": [
       "   color class\n",
       "0  green     A\n",
       "1    red     B\n",
       "2   blue     A"
      ]
     },
     "execution_count": 6,
     "metadata": {},
     "output_type": "execute_result"
    }
   ],
   "source": [
    "df"
   ]
  },
  {
   "cell_type": "code",
   "execution_count": null,
   "metadata": {},
   "outputs": [],
   "source": [
    "#找到dataframe中某列最大值的索引\n",
    "goods_class['class_7'].idxmax()"
   ]
  },
  {
   "cell_type": "code",
   "execution_count": null,
   "metadata": {},
   "outputs": [],
   "source": [
    "#减少df的内存使用\n",
    "def reduce_mem_usage(df, verbose=True):\n",
    "  numerics = ['int16', 'int32', 'int64', 'float16', 'float32', 'float64']\n",
    "  start_mem = df.memory_usage().sum() / 1024**2\n",
    "  for col in df.columns:\n",
    "    col_type = df[col].dtypes\n",
    "    if col_type in numerics:\n",
    "      c_min = df[col].min()\n",
    "      c_max = df[col].max()\n",
    "      if str(col_type)[:3] == 'int':\n",
    "        if c_min > np.iinfo(np.int8).min and c_max < np.iinfo(np.int8).max:\n",
    "          df[col] = df[col].astype(np.int8)\n",
    "        elif c_min > np.iinfo(np.int16).min and c_max < np.iinfo(np.int16).max:\n",
    "          df[col] = df[col].astype(np.int16)\n",
    "        elif c_min > np.iinfo(np.int32).min and c_max < np.iinfo(np.int32).max:\n",
    "          df[col] = df[col].astype(np.int32)\n",
    "        elif c_min > np.iinfo(np.int64).min and c_max < np.iinfo(np.int64).max:\n",
    "          df[col] = df[col].astype(np.int64)\n",
    "      else:\n",
    "        if c_min > np.finfo(np.float16).min and c_max < np.finfo(np.float16).max:\n",
    "          df[col] = df[col].astype(np.float16)\n",
    "        elif c_min > np.finfo(np.float32).min and c_max < np.finfo(np.float32).max:\n",
    "          df[col] = df[col].astype(np.float32)\n",
    "        else:\n",
    "          df[col] = df[col].astype(np.float64)\n",
    "  end_mem = df.memory_usage().sum() / 1024**2\n",
    "  if verbose: print('Mem. usage decreased to {:5.2f} Mb ({:.1f}% reduction)'.format(end_mem, 100 * (start_mem - end_mem) / start_mem))\n",
    "  return df"
   ]
  },
  {
   "cell_type": "code",
   "execution_count": 6,
   "metadata": {},
   "outputs": [],
   "source": [
    "from sklearn.datasets import make_classification\n",
    "#造一些数据，X是向量，y是标签\n",
    "X, y = make_classification(n_samples=5000, n_features=10, n_informative=2,\n",
    "                           n_redundant=0, n_repeated=0, n_classes=3,\n",
    "                           n_clusters_per_class=1,\n",
    "                           weights=[0.61, 0.35, 0.04],\n",
    "                           class_sep=0.8, random_state=0)\n"
   ]
  },
  {
   "cell_type": "code",
   "execution_count": 7,
   "metadata": {},
   "outputs": [
    {
     "data": {
      "text/plain": [
       "array([0, 0, 0, ..., 0, 0, 1])"
      ]
     },
     "execution_count": 7,
     "metadata": {},
     "output_type": "execute_result"
    }
   ],
   "source": [
    "y"
   ]
  },
  {
   "cell_type": "code",
   "execution_count": null,
   "metadata": {},
   "outputs": [],
   "source": [
    "#以label，平衡样本\n",
    "ros = RandomOverSampler(random_state=0)\n",
    "X_resampled, y_resampled = ros.fit_sample(X, y)\n",
    "sorted(Counter(y_resampled).items())"
   ]
  },
  {
   "cell_type": "code",
   "execution_count": null,
   "metadata": {},
   "outputs": [],
   "source": []
  },
  {
   "cell_type": "code",
   "execution_count": null,
   "metadata": {},
   "outputs": [],
   "source": [
    "#dataframe groupby second_id的多行转成多列\n",
    "add_not_buy_df = add_not_buy_df.set_index(['second_id',add_not_buy_df.groupby(['second_id']).cumcount()+1]).unstack().sort_index(level=1, axis=1)\n",
    "add_not_buy_df.columns = add_not_buy_df.columns.map('{0[0]}_{0[1]}'.format)\n",
    "add_not_buy_df.reset_index()\n",
    "add_not_buy_df"
   ]
  },
  {
   "cell_type": "code",
   "execution_count": null,
   "metadata": {},
   "outputs": [],
   "source": []
  },
  {
   "cell_type": "code",
   "execution_count": null,
   "metadata": {},
   "outputs": [],
   "source": [
    "#训练集分成K-Fold，用其他K-1 Fold计算CTR，然后merge给第K个Fold，遍历K次。然后训练集整体计算CTR，再merge给测试集。\n",
    "def ctr_fea(train,test,feature):\n",
    "    for fea in feature:\n",
    "        print(fea)\n",
    "        temp = train[['label',fea]].groupby(fea)['label'].agg({fea+'_sum':sum,\n",
    "                                                          fea+'_count':'count'}).reset_index()\n",
    "        temp[fea+'_ctr'] = temp[fea+'_sum']/(temp[fea+'_count']+10)\n",
    "        test = test.merge(temp[[fea,fea+'_ctr']],on=fea,how='left')\n",
    "    for i in range(len(feature)-1):\n",
    "        for j in range(i+1,len(feature)):\n",
    "            col = [feature[i],feature[j]]\n",
    "            print(col)\n",
    "            temp = train[['label',feature[i],feature[j]]].groupby(col)['label'].agg({'_'.join(col)+'_sum':sum,\n",
    "                                                                                    '_'.join(col)+'_count':'count'}).reset_index()\n",
    "            temp['_'.join(col)+'_ctr'] = temp['_'.join(col)+'_sum']/(temp['_'.join(col)+'_count']+10)\n",
    "            test = test.merge(temp[col+['_'.join(col)+'_ctr']],on=col,how='left')\n",
    "    return test\n",
    "\n",
    "train['label'] = label\n",
    "train_new = None\n",
    "skf = StratifiedKFold(n_splits=5,random_state=2019,shuffle=True)\n",
    "for i,(train_index,valid_index) in enumerate(skf.split(train,label)):\n",
    "    print('flod_{}'.format(i+1))\n",
    "    temp = ctr_fea(train.iloc[train_index],train.iloc[valid_index],feature)\n",
    "    train_new = pd.concat([train_new,temp])\n",
    "test_new = ctr_fea(train,test,feature)\n"
   ]
  },
  {
   "cell_type": "markdown",
   "metadata": {},
   "source": [
    "# 数据清洗"
   ]
  },
  {
   "cell_type": "code",
   "execution_count": null,
   "metadata": {},
   "outputs": [],
   "source": [
    "#在index_3前提下，取出（index_0或index_1）成立，以及index_2成立的\n",
    "index_0 = df['feature_name_0'] != 0\n",
    "index_1 = df['feature_name_1'] != 0\n",
    "index_2 = (df['feature_name_2'] > 0) & (df['feature_name_3'] != 0)\n",
    "idnex_3 = df['feature_name_4'] < 100\n",
    "df_result = df[(index_0 | index_1) & index_2 & ~index_3]"
   ]
  },
  {
   "cell_type": "code",
   "execution_count": null,
   "metadata": {},
   "outputs": [],
   "source": []
  },
  {
   "cell_type": "code",
   "execution_count": null,
   "metadata": {},
   "outputs": [],
   "source": []
  },
  {
   "cell_type": "code",
   "execution_count": null,
   "metadata": {},
   "outputs": [],
   "source": []
  },
  {
   "cell_type": "code",
   "execution_count": null,
   "metadata": {},
   "outputs": [],
   "source": []
  },
  {
   "cell_type": "code",
   "execution_count": null,
   "metadata": {},
   "outputs": [],
   "source": []
  },
  {
   "cell_type": "markdown",
   "metadata": {},
   "source": [
    "# 特征工程"
   ]
  },
  {
   "cell_type": "code",
   "execution_count": null,
   "metadata": {},
   "outputs": [],
   "source": [
    "#加速特征工程计算速度\n",
    "#手工开多进程\n",
    "from pandarallel import pandarallel\n",
    "pandarallel.initialize()\n",
    "df.parallel_apply(func, axis=1)\n",
    "#自动开多进程\n",
    "import modin.pandas as mpd\n",
    "df=mpd.DataFrame(data)\n",
    "df.apply(func, axis=1)\n",
    "#dask也可以试试"
   ]
  },
  {
   "cell_type": "code",
   "execution_count": null,
   "metadata": {},
   "outputs": [],
   "source": [
    "df['feature_name_nunique'] = df.groupby('feature_name').feature_name_2.transform('nunique')"
   ]
  },
  {
   "cell_type": "code",
   "execution_count": null,
   "metadata": {},
   "outputs": [],
   "source": []
  },
  {
   "cell_type": "code",
   "execution_count": null,
   "metadata": {},
   "outputs": [],
   "source": [
    "#https://github.com/fanfanda/OGeek-Competition/blob/master/base_feature.py\n",
    "since = time.time()\n",
    "# 算一些全局统计量\n",
    "# ---- click 特征 ----\n",
    "list_click_feature = ['prefix', 'title', 'tag', 'max_query_prediction_keys']\n",
    "\n",
    "# 计算某特征单次点击\n",
    "for feature in list_click_feature:\n",
    "    printlog('计算' + feature + '点击次数', is_print_output)\n",
    "    not_zip_all_data[feature + '_click'] = not_zip_all_data.groupby(feature)[feature].transform('count')\n",
    "# 部分二元交叉点击\n",
    "not_zip_all_data['prefix_title_click'] = not_zip_all_data.groupby(['prefix', 'title']).prefix.transform('count')\n",
    "not_zip_all_data['prefix_tag_click'] = not_zip_all_data.groupby(['prefix', 'tag']).prefix.transform('count')\n",
    "not_zip_all_data['title_tag_click'] = not_zip_all_data.groupby(['title', 'tag']).title.transform('count')\n",
    "not_zip_all_data['title_max_query_prediction_keys_click'] = not_zip_all_data.groupby(['title', 'max_query_prediction_keys']).title.transform('count')\n",
    "not_zip_all_data['tag_max_query_prediction_keys_click'] = not_zip_all_data.groupby(['tag', 'max_query_prediction_keys']).tag.transform('count')\n",
    "# 部分三元交叉点击\n",
    "not_zip_all_data['prefix_title_tag_click'] = not_zip_all_data.groupby(['prefix', 'title', 'tag']).prefix.transform('count')\n",
    "\n",
    "time_elapsed = time.time() - since\n",
    "print('complete in {:.0f}m {:.0f}s'.format(time_elapsed // 60, time_elapsed % 60)) # 打印出来时间"
   ]
  },
  {
   "cell_type": "code",
   "execution_count": null,
   "metadata": {},
   "outputs": [],
   "source": [
    "encoder = preprocessing.LabelEncoder()\n",
    "not_zip_all_data['tag'] = encoder.fit_transform(not_zip_all_data.tag)"
   ]
  },
  {
   "cell_type": "code",
   "execution_count": null,
   "metadata": {},
   "outputs": [],
   "source": []
  },
  {
   "cell_type": "code",
   "execution_count": null,
   "metadata": {},
   "outputs": [],
   "source": [
    "#数据随机取样比例\n",
    "frac_size = 0.5\n",
    "# 转换率折数\n",
    "sec_size = 5\n",
    "is_fill_na = False\n",
    "# 初始化一次随机划分\n",
    "random.seed(19930326)\n",
    "#把数据随机打上折数标签\n",
    "all_data['random_sector'] = [random.randint(1, sec_size) for num in range(len(all_data))]\n",
    "#-1样本不参与打折\n",
    "all_data.loc[all_data.label == -1, 'random_sector'] = 0\n",
    "#需要转化率防止过拟合的特征\n",
    "convert_feature = ['prefix', 'title', 'tag', 'max_query_prediction_keys', 'prefix_pinyin', 'prefix_fix']\n",
    "#开始时间\n",
    "since = time.time()\n",
    "\n",
    "for index, feature in enumerate(convert_feature):\n",
    "    for sec in range(sec_size + 1):\n",
    "        #正样本K折取样\n",
    "        temp = all_data[(all_data.label != -1)&(all_data.random_sector != sec)][[feature, 'label']]\n",
    "        #正样本随机取样\n",
    "        if sec != 0:\n",
    "            temp = temp.sample(frac = frac_size, random_state = 19930326).reset_index(drop = True)\n",
    "        #平滑处理\n",
    "        temp[feature + '_all_count'] = temp.groupby(feature).label.transform('count')\n",
    "        temp[feature + '_label_count'] = temp.groupby(feature).label.transform('sum')\n",
    "        HP = HyperParam(1, 1)\n",
    "        HP.update_from_data_by_moment(temp[feature + '_all_count'].values, temp[feature + '_label_count'].values)\n",
    "        temp[feature + '_convert'] = (temp[feature + '_label_count'] + HP.alpha) / (temp[feature + '_all_count'] + HP.alpha + HP.beta)\n",
    "        temp = temp[[feature, feature + '_convert']].drop_duplicates()\n",
    "        #深拷贝\n",
    "        sec_data = copy.deepcopy(all_data[all_data.random_sector == sec])\n",
    "        sec_data = pd.merge(sec_data, temp, on = [feature], how = 'left')\n",
    "        if is_fill_na:\n",
    "            sec_data[feature + '_convert'].fillna(HP.alpha / (HP.alpha + HP.beta), inplace = True)\n",
    "        if sec:\n",
    "            new_all_data = pd.concat((new_all_data, sec_data))\n",
    "        else:\n",
    "            new_all_data = copy.deepcopy(sec_data)\n",
    "    all_data = copy.deepcopy(new_all_data)\n",
    "time_elapsed = time.time() - since\n",
    "print('complete in {:.0f}m {:.0f}s'.format(time_elapsed // 60, time_elapsed % 60)) # 打印出来时间"
   ]
  },
  {
   "cell_type": "code",
   "execution_count": null,
   "metadata": {},
   "outputs": [],
   "source": []
  },
  {
   "cell_type": "code",
   "execution_count": null,
   "metadata": {},
   "outputs": [],
   "source": [
    "# 和当初baseline所用一样\n",
    "# add ctr feature\n",
    "data['period'] = data['day']\n",
    "data['period'][data['period'] < 27] = data['period'][data['period'] < 27] + 31\n",
    "for feat_1 in ['advert_id', 'advert_industry_inner', 'advert_name', 'campaign_id', 'creative_height',\n",
    "               'creative_tp_dnf', 'creative_width', 'province', 'f_channel']:\n",
    "    res = pd.DataFrame()\n",
    "    temp = data[[feat_1, 'period', 'click']]\n",
    "    for period in range(27, 35):\n",
    "        if period == 27:\n",
    "            count = temp.groupby([feat_1]).apply(\n",
    "                lambda x: x['click'][(x['period'] <= period).values].count()).reset_index(name=feat_1 + '_all')\n",
    "            count1 = temp.groupby([feat_1]).apply(\n",
    "                lambda x: x['click'][(x['period'] <= period).values].sum()).reset_index(name=feat_1 + '_1')\n",
    "        else:\n",
    "            count = temp.groupby([feat_1]).apply(\n",
    "                lambda x: x['click'][(x['period'] < period).values].count()).reset_index(name=feat_1 + '_all')\n",
    "            count1 = temp.groupby([feat_1]).apply(\n",
    "                lambda x: x['click'][(x['period'] < period).values].sum()).reset_index(name=feat_1 + '_1')\n",
    "        count[feat_1 + '_1'] = count1[feat_1 + '_1']\n",
    "        count.fillna(value=0, inplace=True)\n",
    "        count[feat_1 + '_rate'] = round(count[feat_1 + '_1'] / count[feat_1 + '_all'], 5)\n",
    "        count['period'] = period\n",
    "        count.drop([feat_1 + '_all', feat_1 + '_1'], axis=1, inplace=True)\n",
    "        count.fillna(value=0, inplace=True)\n",
    "        res = res.append(count, ignore_index=True)\n",
    "    print(feat_1, ' over')\n",
    "    data = pd.merge(data, res, how='left', on=[feat_1, 'period'])"
   ]
  },
  {
   "cell_type": "code",
   "execution_count": null,
   "metadata": {},
   "outputs": [],
   "source": [
    "##时间序列特征\n",
    "#你可能认为日期和时间是标准化的，因为它们是如此普遍，不过，其中仍然有一些坑。\n",
    "#有些任务可能需要额外的日历特征。比如，现金提取可能与「账单日」相关联；地铁月卡的购买可能和「月初」相关联。一般而言，处理时序数据时，最好有一份包含公众节假日、异常天气情况及其他重要事件的日历。\n",
    "#处理小时和分钟不像看起来那么简单。如果你将小时作为实数变量，那么 023:00:00 01.01。如果将它们编码为类别变量，那么会生成大量特征，同时丢失时间接近度的信息，即 22 和 23 之间的差异将与 22 和 7 之间的差异相同。\n",
    "#所以，我们可以使用一些更加复杂的方法来处理这些数据，比如将时间投影到圆上，然后使用其 cos 和 sin 值作为两个坐标的值。\n",
    "def make_harmonic_features(value, period=24):\n",
    "    value *= 2 * np.pi / period\n",
    "    return np.cos(value), np.sin(value)\n",
    "\n",
    "from scipy.spatial import distance\n",
    "\n"
   ]
  },
  {
   "cell_type": "code",
   "execution_count": null,
   "metadata": {},
   "outputs": [],
   "source": [
    "#这一转换保留了时间点间的距离，对于需要估计距离的算法（kNN、SVM、k-均值等）使用这种方法来处理时间数据会很有帮助。下面计算经这种方法转化后 23 点和 1 点的距离。\n",
    "euclidean(make_harmonic_features(23), make_harmonic_features(1))"
   ]
  },
  {
   "cell_type": "code",
   "execution_count": null,
   "metadata": {},
   "outputs": [],
   "source": [
    "#移除方差小于0.9的特征\n",
    "from sklearn.feature_selection import VarianceThreshold\n",
    "df = VarianceThreshold(.9).fit_transform(x_data_generated)"
   ]
  },
  {
   "cell_type": "markdown",
   "metadata": {},
   "source": [
    "# A/B Test效果作图"
   ]
  },
  {
   "cell_type": "code",
   "execution_count": 100,
   "metadata": {},
   "outputs": [],
   "source": [
    "relative_data_list = [13.4,-0.72,12.1,14.8,14,-0.5,2.4,16.7,18.6,12.4,15.4,9.8,-4,6.6,2.1,16.6,4.9]\n",
    "day_list = ['11月27日','11月28日','11月29日','12月27日','12月28日','12月29日','12月30日','12月31日','1月1日','1月2日','1月8日',\n",
    "           '1月9日','1月10日','1月11日','1月12日','1月13日','1月14日'\n",
    "           ]\n",
    "absolute_data_list = [38056,-2689,11745,31391,25724,-1043,4821,35481,34118,21789,34381,21419,-8807,11722,4634,29210,7342]\n",
    "absolute_data_list_2 = [38056,-2689,11745,31391,25724,-1043,4821,35481,34118,21789]"
   ]
  },
  {
   "cell_type": "code",
   "execution_count": 97,
   "metadata": {},
   "outputs": [
    {
     "name": "stderr",
     "output_type": "stream",
     "text": [
      "No handles with labels found to put in legend.\n",
      "/Users/wjj/anaconda3/lib/python3.7/site-packages/matplotlib/figure.py:98: MatplotlibDeprecationWarning: \n",
      "Adding an axes using the same arguments as a previous axes currently reuses the earlier instance.  In a future version, a new instance will always be created and returned.  Meanwhile, this warning can be suppressed, and the future behavior ensured, by passing a unique label to each axes instance.\n",
      "  \"Adding an axes using the same arguments as a previous axes \"\n"
     ]
    },
    {
     "data": {
      "image/png": "[encoded data removed]",
      "text/plain": [
       "<Figure size 432x288 with 2 Axes>"
      ]
     },
     "metadata": {},
     "output_type": "display_data"
    }
   ],
   "source": [
    "plt.style.use(\"seaborn-darkgrid\")\n",
    "from pylab import *\n",
    "import pylab as pl\n",
    "mpl.rcParams['font.sans-serif'] = ['SimHei']\n",
    "mpl.rcParams['font.serif'] = ['SimHei']\n",
    "fig = plt.figure()\n",
    "plt.title(\"A/B组销售金额对比图\")\n",
    "plt.legend(loc='upper left')\n",
    "ax1 = fig.add_subplot(111)\n",
    "line1 = ax1.plot(day_list,relative_data_list,color=\"orange\",linewidth=2,linestyle=':',label='相对增幅', marker='o')\n",
    "ax1.set_ylabel('相对增幅(%)')\n",
    "ax1.set_xlabel('测试日期')\n",
    "handles, labels = ax1.get_legend_handles_labels()\n",
    "ax1.legend(handles, labels)\n",
    "ax1.set_ylim(-7, 23)\n",
    "ax2 = ax1.twinx()\n",
    "ax2.set_ylim(-14000, 46000)\n",
    "line2=ax2.plot(day_list,absolute_data_list,color=\"cornflowerblue\",linewidth=2,linestyle='-',label='绝对增幅', marker='D')\n",
    "ax2.set_xlabel('测试日期')\n",
    "ax2.set_ylabel('绝对增幅(元)')\n",
    "handles, labels = ax2.get_legend_handles_labels()\n",
    "ax2.legend(handles, labels)\n",
    "for xtick in ax1.get_xticklabels():\n",
    "    xtick.set_rotation(50) \n",
    "ax1.legend(loc='upper left')\n",
    "ax2.legend(loc='upper right')\n",
    "plt.tight_layout()\n",
    "plt.savefig('/Users/wjj/Desktop/test2.jpg',dpi=800)\n",
    "plt.show()"
   ]
  },
  {
   "cell_type": "markdown",
   "metadata": {},
   "source": [
    "## 将user数据集list列转化为多列"
   ]
  },
  {
   "cell_type": "code",
   "execution_count": 47,
   "metadata": {},
   "outputs": [
    {
     "name": "stderr",
     "output_type": "stream",
     "text": [
      "/Users/wjj/anaconda3/lib/python3.7/site-packages/IPython/core/interactiveshell.py:3020: DtypeWarning: Columns (1) have mixed types. Specify dtype option on import or set low_memory=False.\n",
      "  interactivity=interactivity, compiler=compiler, result=result)\n"
     ]
    }
   ],
   "source": [
    "data_df = pd.read_csv(filepath_or_buffer = '/Volumes/茅草屋/1227/recommendation_result_1.csv',sep=\",\", header=None)"
   ]
  },
  {
   "cell_type": "code",
   "execution_count": 48,
   "metadata": {},
   "outputs": [],
   "source": [
    "del data_df[0]\n",
    "data_df = data_df[~(data_df[1] == 'second_id')]\n",
    "data_df = data_df.rename(columns={1:'second_id',2:'goods'})"
   ]
  },
  {
   "cell_type": "code",
   "execution_count": 51,
   "metadata": {},
   "outputs": [],
   "source": [
    "\n",
    "data_df_1 =  pd.concat([data_df, data_df['goods'].str.split('\\'', expand=True)], axis=1,names='new_names_')"
   ]
  },
  {
   "cell_type": "code",
   "execution_count": 52,
   "metadata": {},
   "outputs": [],
   "source": [
    "data_df_1 = data_df_1[['second_id',1]]\n",
    "data_df_1 = data_df_1.rename(columns={1:'goods'})"
   ]
  },
  {
   "cell_type": "code",
   "execution_count": 53,
   "metadata": {},
   "outputs": [],
   "source": [
    "data_df_2 =  pd.concat([data_df_1, data_df_1['goods'].str.split(',', expand=True)], axis=1,names='new_names_')"
   ]
  },
  {
   "cell_type": "code",
   "execution_count": 54,
   "metadata": {},
   "outputs": [],
   "source": [
    "data_df_2 = data_df_2[['second_id',0,1,2]]\n",
    "data_df_2.to_csv('/Volumes/茅草屋/0108/recommendation_result_1.csv')"
   ]
  },
  {
   "cell_type": "code",
   "execution_count": 55,
   "metadata": {},
   "outputs": [],
   "source": []
  }
 ],
 "metadata": {
  "kernelspec": {
   "display_name": "Python 3",
   "language": "python",
   "name": "python3"
  },
  "language_info": {
   "codemirror_mode": {
    "name": "ipython",
    "version": 3
   },
   "file_extension": ".py",
   "mimetype": "text/x-python",
   "name": "python",
   "nbconvert_exporter": "python",
   "pygments_lexer": "ipython3",
   "version": "3.7.1"
  }
 },
 "nbformat": 4,
 "nbformat_minor": 2
}
